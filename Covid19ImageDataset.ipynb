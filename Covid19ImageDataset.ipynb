{
 "cells": [
  {
   "cell_type": "markdown",
   "metadata": {
    "id": "VQL2-ZPZ7iww"
   },
   "source": [
    "# 1. Imports"
   ]
  },
  {
   "cell_type": "code",
   "execution_count": 1,
   "metadata": {
    "colab": {
     "base_uri": "https://localhost:8080/"
    },
    "executionInfo": {
     "elapsed": 17221,
     "status": "ok",
     "timestamp": 1674123006906,
     "user": {
      "displayName": "Strange Travel",
      "userId": "03076299161008633406"
     },
     "user_tz": -60
    },
    "id": "8wfwaz0PTGIM",
    "outputId": "03c76ca9-37e5-44f9-f21e-f0a58232b992"
   },
   "outputs": [],
   "source": [
    "import torch\n",
    "import torchinfo\n",
    "import torchinfo\n",
    "import torchvision\n",
    "from torch.utils.data import DataLoader\n",
    "import torchvision.transforms as tt\n",
    "from torchvision.datasets import ImageFolder\n",
    "from torchvision.utils import make_grid\n",
    "import torch.nn.functional as F\n",
    "import torch.nn as nn\n",
    "import matplotlib.pyplot as plt\n",
    "import numpy as np\n",
    "import os \n",
    "from sklearn.metrics import f1_score, confusion_matrix\n",
    "from typing import Optional, Union"
   ]
  },
  {
   "cell_type": "code",
   "execution_count": 4,
   "outputs": [
    {
     "name": "stdout",
     "output_type": "stream",
     "text": [
      "0.14.0+cpu\n"
     ]
    }
   ],
   "source": [
    "print(torchvision.__version__)"
   ],
   "metadata": {
    "collapsed": false,
    "pycharm": {
     "name": "#%%\n"
    }
   }
  },
  {
   "cell_type": "markdown",
   "metadata": {
    "id": "5lJc2il47rMN"
   },
   "source": [
    "#2. "
   ]
  },
  {
   "cell_type": "code",
   "execution_count": 2,
   "metadata": {
    "executionInfo": {
     "elapsed": 13,
     "status": "ok",
     "timestamp": 1674123006909,
     "user": {
      "displayName": "Strange Travel",
      "userId": "03076299161008633406"
     },
     "user_tz": -60
    },
    "id": "VjJFrtbrU-bY"
   },
   "outputs": [],
   "source": [
    "image_path = \"./Covid19-dataset\""
   ]
  },
  {
   "cell_type": "code",
   "execution_count": 1,
   "metadata": {
    "colab": {
     "base_uri": "https://localhost:8080/"
    },
    "executionInfo": {
     "elapsed": 14,
     "status": "ok",
     "timestamp": 1674123006910,
     "user": {
      "displayName": "Strange Travel",
      "userId": "03076299161008633406"
     },
     "user_tz": -60
    },
    "id": "EZg6IfZEU-lm",
    "outputId": "372d70e4-ce89-4818-ccd1-b31a59245bfe"
   },
   "outputs": [
    {
     "ename": "NameError",
     "evalue": "name 'torchvision' is not defined",
     "output_type": "error",
     "traceback": [
      "\u001B[1;31m---------------------------------------------------------------------------\u001B[0m",
      "\u001B[1;31mNameError\u001B[0m                                 Traceback (most recent call last)",
      "Cell \u001B[1;32mIn[1], line 2\u001B[0m\n\u001B[0;32m      1\u001B[0m \u001B[38;5;66;03m# Get pretrained model weights and its transformations to apply them to the image data in order to train to the model later\u001B[39;00m\n\u001B[1;32m----> 2\u001B[0m weights \u001B[38;5;241m=\u001B[39m \u001B[43mtorchvision\u001B[49m\u001B[38;5;241m.\u001B[39mmodels\u001B[38;5;241m.\u001B[39mresnet18\u001B[38;5;241m.\u001B[39mDEFAULT\n\u001B[0;32m      3\u001B[0m transforms \u001B[38;5;241m=\u001B[39m weights\u001B[38;5;241m.\u001B[39mtransforms\n\u001B[0;32m      4\u001B[0m \u001B[38;5;28mprint\u001B[39m(transforms)\n",
      "\u001B[1;31mNameError\u001B[0m: name 'torchvision' is not defined"
     ]
    }
   ],
   "source": [
    "# Get pretrained model weights and its transformations to apply them to the image data in order to train to the model later\n",
    "weights = torchvision.models.resnet18.DEFAULT\n",
    "transforms = weights.transforms\n",
    "print(transforms)"
   ]
  },
  {
   "cell_type": "code",
   "execution_count": 4,
   "metadata": {
    "colab": {
     "base_uri": "https://localhost:8080/",
     "height": 277,
     "referenced_widgets": [
      "328c22c1714e4651a12c050db9398aac",
      "4cda8d1f50a140ba874b3a3a3ba8497c",
      "8880daabb3d14875967b09ca40d39084",
      "accbb36c68d64742a4eb19d75bbca8d8",
      "4821719f09a44e9ea7f8f8c6ceb8ef5f",
      "374bbd2e77e8489eaeb640a9253cdd41",
      "ebed727d35244d69b4c1ff172caa9f1e",
      "1d7cc9f46a8a41d3883f27abad4d244c",
      "aa55423f39884c0aa70c195e0a2a7fd2",
      "152fe35002a64745ba8b4ae52cf7a1a6",
      "303f826be8884104b0f873f5b73a9953"
     ]
    },
    "executionInfo": {
     "elapsed": 8718,
     "status": "ok",
     "timestamp": 1674123015618,
     "user": {
      "displayName": "Strange Travel",
      "userId": "03076299161008633406"
     },
     "user_tz": -60
    },
    "id": "bojfNzqzJPqL",
    "outputId": "b692ab3f-ec1e-482f-a0b6-253d3524cd9a"
   },
   "outputs": [
    {
     "name": "stderr",
     "output_type": "stream",
     "text": [
      "C:\\Users\\bierl\\anaconda3\\envs\\lemon_quality_cv\\lib\\site-packages\\torchvision\\models\\_utils.py:135: UserWarning: Using 'weights' as positional parameter(s) is deprecated since 0.13 and may be removed in the future. Please use keyword parameter(s) instead.\n",
      "  warnings.warn(\n"
     ]
    },
    {
     "name": "stdout",
     "output_type": "stream",
     "text": [
      "Sequential(\n",
      "  (0): Linear(in_features=25088, out_features=4096, bias=True)\n",
      "  (1): ReLU(inplace=True)\n",
      "  (2): Dropout(p=0.5, inplace=False)\n",
      "  (3): Linear(in_features=4096, out_features=4096, bias=True)\n",
      "  (4): ReLU(inplace=True)\n",
      "  (5): Dropout(p=0.5, inplace=False)\n",
      "  (6): Linear(in_features=4096, out_features=1000, bias=True)\n",
      ")\n"
     ]
    }
   ],
   "source": [
    "# get model infos\n",
    "model = torchvision.models.vgg16(weights) \n",
    "print(model.classifier)"
   ]
  },
  {
   "cell_type": "code",
   "execution_count": 5,
   "metadata": {
    "executionInfo": {
     "elapsed": 12,
     "status": "ok",
     "timestamp": 1674123015619,
     "user": {
      "displayName": "Strange Travel",
      "userId": "03076299161008633406"
     },
     "user_tz": -60
    },
    "id": "zhq0_vETZf_5"
   },
   "outputs": [],
   "source": [
    "# Add custom transforms on top of needed transforms for the pretrained model\n",
    "base_transforms = [\n",
    "    tt.Resize((256,256), interpolation = tt.InterpolationMode.BICUBIC),\n",
    "]\n",
    "\n",
    "transforms_custom = tt.Compose([\n",
    "    *base_transforms,\n",
    "    tt.RandomCrop(224),\n",
    "    tt.RandomHorizontalFlip(),\n",
    "    tt.RandomRotation(30),\n",
    "    tt.RandomVerticalFlip(),\n",
    "    tt.ToTensor()\n",
    "])\n",
    "\n",
    "test_transforms = tt.Compose([\n",
    "    *base_transforms,\n",
    "    tt.ToTensor()\n",
    "])"
   ]
  },
  {
   "cell_type": "code",
   "execution_count": 6,
   "metadata": {
    "executionInfo": {
     "elapsed": 2664,
     "status": "ok",
     "timestamp": 1674123018274,
     "user": {
      "displayName": "Strange Travel",
      "userId": "03076299161008633406"
     },
     "user_tz": -60
    },
    "id": "5cwZO7kwU-rD"
   },
   "outputs": [],
   "source": [
    "# Load images into ImageFolder\n",
    "train_images = ImageFolder(image_path+\"/train\", transform=transforms_custom)\n",
    "test_images = ImageFolder(image_path + \"/test\", transform=test_transforms)"
   ]
  },
  {
   "cell_type": "code",
   "execution_count": 7,
   "metadata": {
    "executionInfo": {
     "elapsed": 7,
     "status": "ok",
     "timestamp": 1674123018275,
     "user": {
      "displayName": "Strange Travel",
      "userId": "03076299161008633406"
     },
     "user_tz": -60
    },
    "id": "LuifjLHVU-yS"
   },
   "outputs": [],
   "source": [
    "# Create dataloader\n",
    "train_loader = DataLoader(train_images, batch_size=16, shuffle=True, num_workers=2)\n",
    "test_loader = DataLoader(test_images, batch_size=16, shuffle=True, num_workers=2)"
   ]
  },
  {
   "cell_type": "code",
   "execution_count": 8,
   "metadata": {
    "executionInfo": {
     "elapsed": 6,
     "status": "ok",
     "timestamp": 1674123018276,
     "user": {
      "displayName": "Strange Travel",
      "userId": "03076299161008633406"
     },
     "user_tz": -60
    },
    "id": "luge2AhZax0W"
   },
   "outputs": [],
   "source": [
    "# create label distribution of training data for further investigation\n",
    "label_dist = {}\n",
    "for img_class in os.listdir(image_path + \"/train\"):\n",
    "  counter = 0 \n",
    "  for img in os.listdir(image_path + \"/train\" + \"/\" +  img_class):\n",
    "    counter += 1 \n",
    "  label_dist[img_class] = counter\n",
    "\n",
    "inverse_class_weights = [1/(count/sum(label_dist.values())) for count in label_dist.values() ]"
   ]
  },
  {
   "cell_type": "code",
   "execution_count": 9,
   "metadata": {
    "colab": {
     "base_uri": "https://localhost:8080/",
     "height": 483
    },
    "executionInfo": {
     "elapsed": 421,
     "status": "ok",
     "timestamp": 1674123018691,
     "user": {
      "displayName": "Strange Travel",
      "userId": "03076299161008633406"
     },
     "user_tz": -60
    },
    "id": "Daw0IEgwbrTD",
    "outputId": "ed284469-a8c7-47e4-89eb-0f57f9ca9fd6"
   },
   "outputs": [
    {
     "data": {
      "text/plain": "<Figure size 800x800 with 1 Axes>",
      "image/png": "[encoded data removed]"
     },
     "metadata": {},
     "output_type": "display_data"
    }
   ],
   "source": [
    "# plot the label distribution\n",
    "fig,ax = plt.subplots(figsize=(8,8))\n",
    "ax.pie(label_dist.values(), labels=label_dist.keys(), autopct='%1.0f%%', pctdistance=1.1, labeldistance=1.2, textprops={\"fontsize\":12})\n",
    "plt.title(\"Slight class imbalance with more covid data than non-covid data: Will be considered when building the model\", fontsize=14)\n",
    "plt.show()"
   ]
  },
  {
   "cell_type": "code",
   "execution_count": 10,
   "metadata": {
    "colab": {
     "base_uri": "https://localhost:8080/",
     "height": 272
    },
    "executionInfo": {
     "elapsed": 11753,
     "status": "ok",
     "timestamp": 1674123030438,
     "user": {
      "displayName": "Strange Travel",
      "userId": "03076299161008633406"
     },
     "user_tz": -60
    },
    "id": "GtZtqJ026fFG",
    "outputId": "37b38db9-7692-4f71-9783-410236dc80fa"
   },
   "outputs": [
    {
     "data": {
      "text/plain": "<Figure size 1600x1600 with 1 Axes>",
      "image/png": "[encoded data removed]"
     },
     "metadata": {},
     "output_type": "display_data"
    }
   ],
   "source": [
    "# Plot grid of test images, which are not augmented\n",
    "for batch in test_loader:\n",
    "  images,labels = batch\n",
    "  grid = make_grid(images)\n",
    "  grid = grid.permute(1,2,0) # permute dimensions to make it plotable for matplotlib\n",
    "  break\n",
    "\n",
    "fig, ax = plt.subplots(figsize=(16,16))\n",
    "ax.imshow(grid)\n",
    "\n",
    "ncol = 8\n",
    "nrow = 2\n",
    "\n",
    "# Add labels to each grid member with a white bounding box\n",
    "for col in range(ncol):\n",
    "  for row in range(nrow):\n",
    "    label = test_images.classes[labels[col + row]]\n",
    "    t = plt.text(x=(col) * 258 + 10, y = (row) * 258 + 30, s=label , color=\"red\", fontsize=10)\n",
    "    t.set_bbox(dict(facecolor='white', alpha=0.8, edgecolor='white'))\n",
    "\n",
    "ax.axis('off')\n",
    "plt.title(\"Random sample of image data\", fontsize=14)\n",
    "plt.show()"
   ]
  },
  {
   "cell_type": "code",
   "execution_count": 11,
   "metadata": {
    "executionInfo": {
     "elapsed": 32,
     "status": "ok",
     "timestamp": 1674123030440,
     "user": {
      "displayName": "Strange Travel",
      "userId": "03076299161008633406"
     },
     "user_tz": -60
    },
    "id": "ZgWL33Em6KhG"
   },
   "outputs": [],
   "source": [
    "# Build device data loader to make gpu training possible\n",
    "\n",
    "def get_default_device():\n",
    "  \"\"\"\n",
    "  Pick GPU if it is available otherwise CPU\n",
    "  \"\"\"\n",
    "  if torch.cuda.is_available:\n",
    "    return torch.device(\"cuda\")\n",
    "  else:\n",
    "    return torch.device(\"cpu\")\n",
    "\n",
    "def to_device(data, device):\n",
    "  if isinstance(data, (list,tuple)):\n",
    "    return [to_device(x,device) for x in data]\n",
    "  else:\n",
    "    return data.to(device, non_blocking=True)\n",
    "  \n",
    "class DeviceDataLoader:\n",
    "  \"\"\"\n",
    "  Wrap a dataloader to move data to device\n",
    "  \"\"\"\n",
    "\n",
    "  def __init__(self, dl ,device):\n",
    "    self.dl = dl\n",
    "    self.device = device\n",
    "\n",
    "  def __iter__(self):\n",
    "    \"\"\"\n",
    "    Yield a batch of data after moving it to device\n",
    "    :return: To new device transformed dataloader\n",
    "    \"\"\"\n",
    "    for b in self.dl:\n",
    "      yield to_device(b, self.device)\n",
    "  \n",
    "  def __len__(self):\n",
    "    \"\"\"\n",
    "    Number of batches\n",
    "    \"\"\"\n",
    "    return len(self.dl)"
   ]
  },
  {
   "cell_type": "code",
   "execution_count": 12,
   "metadata": {
    "executionInfo": {
     "elapsed": 32,
     "status": "ok",
     "timestamp": 1674123030441,
     "user": {
      "displayName": "Strange Travel",
      "userId": "03076299161008633406"
     },
     "user_tz": -60
    },
    "id": "iqKYGRYZ6KlG"
   },
   "outputs": [],
   "source": [
    "# Build the model\n",
    "\n",
    "class Model(nn.Module):\n",
    "  def __init__(self, train_backbone_params=True):\n",
    "    super().__init__()\n",
    "    self.train_backbone_params = train_backbone_params\n",
    "\n",
    "    self.model = self.init_model()\n",
    "  \n",
    "  \n",
    "  def forward(self, xb):\n",
    "    \"\"\"\n",
    "    Simple forward step\n",
    "\n",
    "    :param xb: input data\n",
    "    :type xb: torch.tensor\n",
    "    :return: output of the model\n",
    "    :rtype: torch.tensor\n",
    "    \"\"\"\n",
    "    out = self.model(xb)\n",
    "    return out\n",
    "  \n",
    "  def init_model(self):\n",
    "    \"\"\"\n",
    "    Setup backbone model\n",
    "    \"\"\"\n",
    "    weights = torchvision.models.VGG16_Weights.DEFAULT\n",
    "    model = torchvision.models.vgg16(weights) \n",
    "\n",
    "    if self.train_backbone_params:\n",
    "      for param in model.parameters():\n",
    "        param.requires_grad = True\n",
    "    else:\n",
    "      for param in model.parameters():\n",
    "        param.requires_grad = False\n",
    "    \n",
    "    classifier = nn.Sequential(\n",
    "         nn.Linear(in_features=25088, out_features=3)\n",
    "    )\n",
    "\n",
    "    model.classifier = classifier\n",
    "    return  model\n",
    "  \n",
    "  def training_step(self, batch):\n",
    "    \"\"\"\n",
    "    Training step which computes the loss and accuracy of a train batch\n",
    "    :param batch: batch of pytorch dataloader\n",
    "    :type batch: torch.utils.data.DataLoader\n",
    "    :return: loss, accuracy and f1_score of batch\n",
    "    :rtype: tuple[torch.tensor,...]\n",
    "    \"\"\"\n",
    "    images, labels =  batch\n",
    "    out = self(images) \n",
    "    train_loss = F.cross_entropy(out,labels, weight=inverse_class_weights)\n",
    "    train_acc = accuracy(out,labels)\n",
    "    train_f1 = f1(out, labels)\n",
    "\n",
    "    return train_loss, train_acc, train_f1\n",
    "  \n",
    "  def validation_step(self,batch):\n",
    "    images, labels =  batch\n",
    "    out = self(images)\n",
    "    val_loss = F.cross_entropy(out,labels) # without class weights!\n",
    "    val_accuracy = accuracy(out,labels)\n",
    "    val_f1 = f1(out, labels)\n",
    "\n",
    "    return {\"val_loss\": val_loss, \"val_acc\": val_accuracy, \"val_f1\": val_f1}\n",
    "\n",
    "  def validation_epoch_end(self, outputs):\n",
    "    \"\"\"\n",
    "    Returns the epoch losses after computing the mean loss and accuracy of the test batches\n",
    "\n",
    "    :param outputs: List of test step outputs\n",
    "    :type outputs: list\n",
    "    :return: epoch loss and epoch accuracy\n",
    "    :rtype: dict\n",
    "    \"\"\"\n",
    "    batch_losses = [x[\"val_loss\"] for x in outputs]\n",
    "    batch_acc = [x[\"val_acc\"] for x in outputs]\n",
    "    batch_f1 = [x[\"val_f1\"] for x in outputs]\n",
    "\n",
    "    epoch_loss = torch.stack(batch_losses).mean().item()\n",
    "    epoch_acc = torch.stack(batch_acc).mean().item()\n",
    "    epoch_f1 = np.mean(batch_f1)\n",
    "    return {\"val_loss\": epoch_loss, \"val_acc\": epoch_acc, \"val_f1\": epoch_f1}\n",
    "\n",
    "  def evaluate(self, dl):\n",
    "    with torch.no_grad():\n",
    "      self.eval()\n",
    "      outputs = [self.validation_step(batch) for batch in dl]\n",
    "      return self.validation_epoch_end(outputs)\n",
    "  \n",
    "  def epoch_end_val(self, epoch, results):\n",
    "    \"\"\"\n",
    "    Prints test epoch summary after every epoch\n",
    "\n",
    "    :param epoch: epoch number\n",
    "    :type epoch: int\n",
    "    :param results: results from the evaluate method\n",
    "    :type results: dictionary\n",
    "    :return: None\n",
    "    \"\"\"\n",
    "\n",
    "    print(f\"Epoch:[{epoch}]: validation loss: {results['val_loss']}, validation accuracy: {results['val_acc']},validation f1_score: {results['val_f1']}\")\n",
    "    \n",
    "    "
   ]
  },
  {
   "cell_type": "code",
   "execution_count": 13,
   "metadata": {
    "executionInfo": {
     "elapsed": 32,
     "status": "ok",
     "timestamp": 1674123030442,
     "user": {
      "displayName": "Strange Travel",
      "userId": "03076299161008633406"
     },
     "user_tz": -60
    },
    "id": "NAxB92os6KoN"
   },
   "outputs": [],
   "source": [
    "# define helper functions and classes\n",
    "def accuracy(prediction, labels):\n",
    "  \"\"\"\n",
    "  Computes the accuracy of a prediction\n",
    "\n",
    "  :param output: Prediction outputs\n",
    "  :type output: torch.tensor\n",
    "  :param labels: True labels for the output\n",
    "  :type labels: torch.tensor\n",
    "  :return: accuracy of the prediction\n",
    "  :rtype: torch.tensor\n",
    "  \"\"\"\n",
    "\n",
    "  _, preds = torch.max(prediction, dim=1)\n",
    "  return torch.tensor(torch.sum((preds == labels)) / len(preds))\n",
    "\n",
    "\n",
    "def f1(prediction, labels):\n",
    "  \"\"\"\n",
    "  Computes the f1_score of a prediction\n",
    "\n",
    "  :param output: Prediction outputs\n",
    "  :type output: torch.tensor\n",
    "  :param labels: True labels for the output\n",
    "  :type labels: torch.tensor\n",
    "  :return: f1_score of the prediction\n",
    "  :rtype: torch.tensor\n",
    "  \"\"\"\n",
    "  output = prediction.cpu() # transfer them to cpu to make coversion to numpy arrays possible \n",
    "  labels = labels.cpu()\n",
    "  _, preds = torch.max(output, dim=1)\n",
    "  return f1_score(labels, preds, average=\"macro\")\n",
    "\n",
    "\n",
    "# Early Stopper class for training \n",
    "class EarlyStopper:\n",
    "  def __init__(self,min_delta=0, patience_steps=5):\n",
    "    self.min_delta = min_delta\n",
    "    self.patience_steps = patience_steps\n",
    "    self.counter = 0\n",
    "    self.min_validation_loss = np.inf\n",
    "  \n",
    "  def early_stop(self, new_val_loss):\n",
    "    \"\"\"\n",
    "    Returns True if criterion for early stop is met\n",
    "    :param new_val_loss: validation loss of epoch\n",
    "    :param float:\n",
    "    :return: True if early stop should be done, False otherwise\n",
    "    :rtype: bool\n",
    "    \"\"\"\n",
    "    if self.min_validation_loss > new_val_loss:\n",
    "      self.min_validation_loss = new_val_loss\n",
    "      self.counter = 0\n",
    "    elif self.min_validation_loss + self.min_delta <= new_val_loss:\n",
    "        if self.counter >= self.patience_steps:\n",
    "          return True\n",
    "        else:\n",
    "          self.counter += 1\n",
    "    else:\n",
    "      return False"
   ]
  },
  {
   "cell_type": "code",
   "execution_count": 14,
   "metadata": {
    "executionInfo": {
     "elapsed": 378,
     "status": "ok",
     "timestamp": 1674123030789,
     "user": {
      "displayName": "Strange Travel",
      "userId": "03076299161008633406"
     },
     "user_tz": -60
    },
    "id": "tD6zjbVh6Kq5"
   },
   "outputs": [],
   "source": [
    "# training function\n",
    "def fit(model: Union[Model, nn.Module], epochs: int, train_loader: torch.utils.data.dataloader.DataLoader, val_loader: torch.utils.data.dataloader.DataLoader,\n",
    "        optimizer: torch.optim, learning_rate: float, early_stopping: bool, lr_scheduler: torch.optim.lr_scheduler, **kwargs):\n",
    "  \"\"\"\n",
    "  Fits the model with defined optimizer, learning rate scheduler, early stopper  and laerning rate\n",
    "\n",
    "  :param model: PyTorch model which should be trained\n",
    "  :param epochs: Number of epochs\n",
    "  :param train_loader: DataLoader for training data\n",
    "  :param val_loader: DataLoader for validation data\n",
    "  :param optimizer: PyTorch optimizer to optimize the loss\n",
    "  :param learning_rate: Learning rate for the optimizer\n",
    "  :param early_stopping: True if early stopping should be checked\n",
    "  :param lr_scheduler: PyTorch learning rate scheduler to adjust the learning rate\n",
    "  :param **kwargs: additional keyword arguments for the learning rate scheduler\n",
    "  :return: history of training\n",
    "  :rtype: list\n",
    "  \"\"\"\n",
    "  \n",
    "  optimizer = optimizer(model.parameters(), lr=learning_rate)\n",
    "  if lr_scheduler:\n",
    "    lrs = lr_scheduler(optimizer, **kwargs)\n",
    "  \n",
    "  if early_stopping:\n",
    "    early_stopper = EarlyStopper()\n",
    "\n",
    "  history = []\n",
    "\n",
    "  for epoch in range(epochs):\n",
    "    train_losses = []\n",
    "    train_acc = []\n",
    "    train_f1 = []\n",
    "    for num, batch in enumerate(train_loader):\n",
    "      print(f\"New batch [{num}]\")\n",
    "      loss, acc, f1 = model.training_step(batch)\n",
    "      train_losses.append(loss)\n",
    "      train_acc.append(acc)\n",
    "      train_f1.append(f1)\n",
    "    \n",
    "      optimizer.step()\n",
    "  \n",
    "    result = model.evaluate(val_loader)\n",
    "    result[\"train_loss\"] = torch.stack(train_losses).mean().item()\n",
    "    result[\"train_acc\"] = torch.stack(train_acc).mean().item()\n",
    "    result[\"train_f1\"] = np.mean(train_f1)\n",
    "\n",
    "    history.append(result)\n",
    "  \n",
    "    if lr_scheduler:\n",
    "      lrs.step(metrics=result[\"val_loss\"])\n",
    "\n",
    "    if early_stopping:\n",
    "      if early_stopper.early_stop(result[\"val_loss\"]):\n",
    "        break\n",
    "\n",
    "    model.epoch_end_val(epoch,result)\n",
    "  \n",
    "  return history"
   ]
  },
  {
   "cell_type": "code",
   "execution_count": 15,
   "metadata": {
    "colab": {
     "base_uri": "https://localhost:8080/"
    },
    "executionInfo": {
     "elapsed": 32861,
     "status": "ok",
     "timestamp": 1674123063648,
     "user": {
      "displayName": "Strange Travel",
      "userId": "03076299161008633406"
     },
     "user_tz": -60
    },
    "id": "FYp9V_7k7TZY",
    "outputId": "75fe7600-9add-4c12-b443-0a0ea22ce7fe"
   },
   "outputs": [
    {
     "name": "stdout",
     "output_type": "stream",
     "text": [
      "==========================================================================================\n",
      "Layer (type:depth-idx)                   Output Shape              Param #\n",
      "==========================================================================================\n",
      "Model                                    [32, 3]                   --\n",
      "├─VGG: 1-1                               [32, 3]                   --\n",
      "│    └─Sequential: 2-1                   [32, 512, 8, 8]           --\n",
      "│    │    └─Conv2d: 3-1                  [32, 64, 256, 256]        1,792\n",
      "│    │    └─ReLU: 3-2                    [32, 64, 256, 256]        --\n",
      "│    │    └─Conv2d: 3-3                  [32, 64, 256, 256]        36,928\n",
      "│    │    └─ReLU: 3-4                    [32, 64, 256, 256]        --\n",
      "│    │    └─MaxPool2d: 3-5               [32, 64, 128, 128]        --\n",
      "│    │    └─Conv2d: 3-6                  [32, 128, 128, 128]       73,856\n",
      "│    │    └─ReLU: 3-7                    [32, 128, 128, 128]       --\n",
      "│    │    └─Conv2d: 3-8                  [32, 128, 128, 128]       147,584\n",
      "│    │    └─ReLU: 3-9                    [32, 128, 128, 128]       --\n",
      "│    │    └─MaxPool2d: 3-10              [32, 128, 64, 64]         --\n",
      "│    │    └─Conv2d: 3-11                 [32, 256, 64, 64]         295,168\n",
      "│    │    └─ReLU: 3-12                   [32, 256, 64, 64]         --\n",
      "│    │    └─Conv2d: 3-13                 [32, 256, 64, 64]         590,080\n",
      "│    │    └─ReLU: 3-14                   [32, 256, 64, 64]         --\n",
      "│    │    └─Conv2d: 3-15                 [32, 256, 64, 64]         590,080\n",
      "│    │    └─ReLU: 3-16                   [32, 256, 64, 64]         --\n",
      "│    │    └─MaxPool2d: 3-17              [32, 256, 32, 32]         --\n",
      "│    │    └─Conv2d: 3-18                 [32, 512, 32, 32]         1,180,160\n",
      "│    │    └─ReLU: 3-19                   [32, 512, 32, 32]         --\n",
      "│    │    └─Conv2d: 3-20                 [32, 512, 32, 32]         2,359,808\n",
      "│    │    └─ReLU: 3-21                   [32, 512, 32, 32]         --\n",
      "│    │    └─Conv2d: 3-22                 [32, 512, 32, 32]         2,359,808\n",
      "│    │    └─ReLU: 3-23                   [32, 512, 32, 32]         --\n",
      "│    │    └─MaxPool2d: 3-24              [32, 512, 16, 16]         --\n",
      "│    │    └─Conv2d: 3-25                 [32, 512, 16, 16]         2,359,808\n",
      "│    │    └─ReLU: 3-26                   [32, 512, 16, 16]         --\n",
      "│    │    └─Conv2d: 3-27                 [32, 512, 16, 16]         2,359,808\n",
      "│    │    └─ReLU: 3-28                   [32, 512, 16, 16]         --\n",
      "│    │    └─Conv2d: 3-29                 [32, 512, 16, 16]         2,359,808\n",
      "│    │    └─ReLU: 3-30                   [32, 512, 16, 16]         --\n",
      "│    │    └─MaxPool2d: 3-31              [32, 512, 8, 8]           --\n",
      "│    └─AdaptiveAvgPool2d: 2-2            [32, 512, 7, 7]           --\n",
      "│    └─Sequential: 2-3                   [32, 3]                   --\n",
      "│    │    └─Linear: 3-32                 [32, 3]                   75,267\n",
      "==========================================================================================\n",
      "Total params: 14,789,955\n",
      "Trainable params: 14,789,955\n",
      "Non-trainable params: 0\n",
      "Total mult-adds (G): 642.00\n",
      "==========================================================================================\n",
      "Input size (MB): 25.17\n",
      "Forward/backward pass size (MB): 4529.85\n",
      "Params size (MB): 59.16\n",
      "Estimated Total Size (MB): 4614.17\n",
      "==========================================================================================\n"
     ]
    }
   ],
   "source": [
    "# Send models and data to gpu if possible\n",
    "device = get_default_device()\n",
    "device = torch.device(\"cpu\")\n",
    "model = Model()\n",
    "model = to_device(model, device)\n",
    "\n",
    "train_loader_to_device = DeviceDataLoader(train_loader, device)\n",
    "test_loader_to_device = DeviceDataLoader(test_loader, device)\n",
    "\n",
    "inverse_class_weights = to_device(torch.tensor(inverse_class_weights), device)\n",
    "#print summary\n",
    "print(torchinfo.summary(model, input_size=(32,3,256,256)))"
   ]
  },
  {
   "cell_type": "code",
   "execution_count": 17,
   "metadata": {
    "colab": {
     "base_uri": "https://localhost:8080/"
    },
    "id": "DfzJGV-T6KuF",
    "outputId": "579ebe33-7692-4f03-f5b5-016b11e12e70"
   },
   "outputs": [
    {
     "name": "stdout",
     "output_type": "stream",
     "text": [
      "New batch [0]\n"
     ]
    },
    {
     "name": "stderr",
     "output_type": "stream",
     "text": [
      "C:\\Users\\bierl\\AppData\\Local\\Temp\\ipykernel_22508\\1681313543.py:15: UserWarning: To copy construct from a tensor, it is recommended to use sourceTensor.clone().detach() or sourceTensor.clone().detach().requires_grad_(True), rather than torch.tensor(sourceTensor).\n",
      "  return torch.tensor(torch.sum((preds == labels)) / len(preds))\n"
     ]
    },
    {
     "name": "stdout",
     "output_type": "stream",
     "text": [
      "New batch [1]\n"
     ]
    },
    {
     "name": "stderr",
     "output_type": "stream",
     "text": [
      "C:\\Users\\bierl\\AppData\\Local\\Temp\\ipykernel_22508\\1681313543.py:15: UserWarning: To copy construct from a tensor, it is recommended to use sourceTensor.clone().detach() or sourceTensor.clone().detach().requires_grad_(True), rather than torch.tensor(sourceTensor).\n",
      "  return torch.tensor(torch.sum((preds == labels)) / len(preds))\n"
     ]
    },
    {
     "name": "stdout",
     "output_type": "stream",
     "text": [
      "New batch [2]\n"
     ]
    },
    {
     "name": "stderr",
     "output_type": "stream",
     "text": [
      "C:\\Users\\bierl\\AppData\\Local\\Temp\\ipykernel_22508\\1681313543.py:15: UserWarning: To copy construct from a tensor, it is recommended to use sourceTensor.clone().detach() or sourceTensor.clone().detach().requires_grad_(True), rather than torch.tensor(sourceTensor).\n",
      "  return torch.tensor(torch.sum((preds == labels)) / len(preds))\n"
     ]
    },
    {
     "name": "stdout",
     "output_type": "stream",
     "text": [
      "New batch [3]\n"
     ]
    },
    {
     "name": "stderr",
     "output_type": "stream",
     "text": [
      "C:\\Users\\bierl\\AppData\\Local\\Temp\\ipykernel_22508\\1681313543.py:15: UserWarning: To copy construct from a tensor, it is recommended to use sourceTensor.clone().detach() or sourceTensor.clone().detach().requires_grad_(True), rather than torch.tensor(sourceTensor).\n",
      "  return torch.tensor(torch.sum((preds == labels)) / len(preds))\n"
     ]
    },
    {
     "name": "stdout",
     "output_type": "stream",
     "text": [
      "New batch [4]\n"
     ]
    },
    {
     "name": "stderr",
     "output_type": "stream",
     "text": [
      "C:\\Users\\bierl\\AppData\\Local\\Temp\\ipykernel_22508\\1681313543.py:15: UserWarning: To copy construct from a tensor, it is recommended to use sourceTensor.clone().detach() or sourceTensor.clone().detach().requires_grad_(True), rather than torch.tensor(sourceTensor).\n",
      "  return torch.tensor(torch.sum((preds == labels)) / len(preds))\n"
     ]
    },
    {
     "name": "stdout",
     "output_type": "stream",
     "text": [
      "New batch [5]\n"
     ]
    },
    {
     "name": "stderr",
     "output_type": "stream",
     "text": [
      "C:\\Users\\bierl\\AppData\\Local\\Temp\\ipykernel_22508\\1681313543.py:15: UserWarning: To copy construct from a tensor, it is recommended to use sourceTensor.clone().detach() or sourceTensor.clone().detach().requires_grad_(True), rather than torch.tensor(sourceTensor).\n",
      "  return torch.tensor(torch.sum((preds == labels)) / len(preds))\n"
     ]
    },
    {
     "name": "stdout",
     "output_type": "stream",
     "text": [
      "New batch [6]\n"
     ]
    },
    {
     "name": "stderr",
     "output_type": "stream",
     "text": [
      "C:\\Users\\bierl\\AppData\\Local\\Temp\\ipykernel_22508\\1681313543.py:15: UserWarning: To copy construct from a tensor, it is recommended to use sourceTensor.clone().detach() or sourceTensor.clone().detach().requires_grad_(True), rather than torch.tensor(sourceTensor).\n",
      "  return torch.tensor(torch.sum((preds == labels)) / len(preds))\n"
     ]
    },
    {
     "name": "stdout",
     "output_type": "stream",
     "text": [
      "New batch [7]\n"
     ]
    },
    {
     "name": "stderr",
     "output_type": "stream",
     "text": [
      "C:\\Users\\bierl\\AppData\\Local\\Temp\\ipykernel_22508\\1681313543.py:15: UserWarning: To copy construct from a tensor, it is recommended to use sourceTensor.clone().detach() or sourceTensor.clone().detach().requires_grad_(True), rather than torch.tensor(sourceTensor).\n",
      "  return torch.tensor(torch.sum((preds == labels)) / len(preds))\n"
     ]
    },
    {
     "name": "stdout",
     "output_type": "stream",
     "text": [
      "New batch [8]\n"
     ]
    },
    {
     "name": "stderr",
     "output_type": "stream",
     "text": [
      "C:\\Users\\bierl\\AppData\\Local\\Temp\\ipykernel_22508\\1681313543.py:15: UserWarning: To copy construct from a tensor, it is recommended to use sourceTensor.clone().detach() or sourceTensor.clone().detach().requires_grad_(True), rather than torch.tensor(sourceTensor).\n",
      "  return torch.tensor(torch.sum((preds == labels)) / len(preds))\n"
     ]
    },
    {
     "name": "stdout",
     "output_type": "stream",
     "text": [
      "New batch [9]\n"
     ]
    },
    {
     "name": "stderr",
     "output_type": "stream",
     "text": [
      "C:\\Users\\bierl\\AppData\\Local\\Temp\\ipykernel_22508\\1681313543.py:15: UserWarning: To copy construct from a tensor, it is recommended to use sourceTensor.clone().detach() or sourceTensor.clone().detach().requires_grad_(True), rather than torch.tensor(sourceTensor).\n",
      "  return torch.tensor(torch.sum((preds == labels)) / len(preds))\n"
     ]
    },
    {
     "name": "stdout",
     "output_type": "stream",
     "text": [
      "New batch [10]\n"
     ]
    },
    {
     "name": "stderr",
     "output_type": "stream",
     "text": [
      "C:\\Users\\bierl\\AppData\\Local\\Temp\\ipykernel_22508\\1681313543.py:15: UserWarning: To copy construct from a tensor, it is recommended to use sourceTensor.clone().detach() or sourceTensor.clone().detach().requires_grad_(True), rather than torch.tensor(sourceTensor).\n",
      "  return torch.tensor(torch.sum((preds == labels)) / len(preds))\n"
     ]
    },
    {
     "name": "stdout",
     "output_type": "stream",
     "text": [
      "New batch [11]\n"
     ]
    },
    {
     "name": "stderr",
     "output_type": "stream",
     "text": [
      "C:\\Users\\bierl\\AppData\\Local\\Temp\\ipykernel_22508\\1681313543.py:15: UserWarning: To copy construct from a tensor, it is recommended to use sourceTensor.clone().detach() or sourceTensor.clone().detach().requires_grad_(True), rather than torch.tensor(sourceTensor).\n",
      "  return torch.tensor(torch.sum((preds == labels)) / len(preds))\n"
     ]
    },
    {
     "name": "stdout",
     "output_type": "stream",
     "text": [
      "New batch [12]\n"
     ]
    },
    {
     "name": "stderr",
     "output_type": "stream",
     "text": [
      "C:\\Users\\bierl\\AppData\\Local\\Temp\\ipykernel_22508\\1681313543.py:15: UserWarning: To copy construct from a tensor, it is recommended to use sourceTensor.clone().detach() or sourceTensor.clone().detach().requires_grad_(True), rather than torch.tensor(sourceTensor).\n",
      "  return torch.tensor(torch.sum((preds == labels)) / len(preds))\n"
     ]
    },
    {
     "name": "stdout",
     "output_type": "stream",
     "text": [
      "New batch [13]\n"
     ]
    },
    {
     "name": "stderr",
     "output_type": "stream",
     "text": [
      "C:\\Users\\bierl\\AppData\\Local\\Temp\\ipykernel_22508\\1681313543.py:15: UserWarning: To copy construct from a tensor, it is recommended to use sourceTensor.clone().detach() or sourceTensor.clone().detach().requires_grad_(True), rather than torch.tensor(sourceTensor).\n",
      "  return torch.tensor(torch.sum((preds == labels)) / len(preds))\n"
     ]
    },
    {
     "name": "stdout",
     "output_type": "stream",
     "text": [
      "New batch [14]\n"
     ]
    },
    {
     "name": "stderr",
     "output_type": "stream",
     "text": [
      "C:\\Users\\bierl\\AppData\\Local\\Temp\\ipykernel_22508\\1681313543.py:15: UserWarning: To copy construct from a tensor, it is recommended to use sourceTensor.clone().detach() or sourceTensor.clone().detach().requires_grad_(True), rather than torch.tensor(sourceTensor).\n",
      "  return torch.tensor(torch.sum((preds == labels)) / len(preds))\n"
     ]
    },
    {
     "name": "stdout",
     "output_type": "stream",
     "text": [
      "New batch [15]\n"
     ]
    },
    {
     "name": "stderr",
     "output_type": "stream",
     "text": [
      "C:\\Users\\bierl\\AppData\\Local\\Temp\\ipykernel_22508\\1681313543.py:15: UserWarning: To copy construct from a tensor, it is recommended to use sourceTensor.clone().detach() or sourceTensor.clone().detach().requires_grad_(True), rather than torch.tensor(sourceTensor).\n",
      "  return torch.tensor(torch.sum((preds == labels)) / len(preds))\n",
      "C:\\Users\\bierl\\AppData\\Local\\Temp\\ipykernel_22508\\1681313543.py:15: UserWarning: To copy construct from a tensor, it is recommended to use sourceTensor.clone().detach() or sourceTensor.clone().detach().requires_grad_(True), rather than torch.tensor(sourceTensor).\n",
      "  return torch.tensor(torch.sum((preds == labels)) / len(preds))\n",
      "C:\\Users\\bierl\\AppData\\Local\\Temp\\ipykernel_22508\\1681313543.py:15: UserWarning: To copy construct from a tensor, it is recommended to use sourceTensor.clone().detach() or sourceTensor.clone().detach().requires_grad_(True), rather than torch.tensor(sourceTensor).\n",
      "  return torch.tensor(torch.sum((preds == labels)) / len(preds))\n",
      "C:\\Users\\bierl\\AppData\\Local\\Temp\\ipykernel_22508\\1681313543.py:15: UserWarning: To copy construct from a tensor, it is recommended to use sourceTensor.clone().detach() or sourceTensor.clone().detach().requires_grad_(True), rather than torch.tensor(sourceTensor).\n",
      "  return torch.tensor(torch.sum((preds == labels)) / len(preds))\n",
      "C:\\Users\\bierl\\AppData\\Local\\Temp\\ipykernel_22508\\1681313543.py:15: UserWarning: To copy construct from a tensor, it is recommended to use sourceTensor.clone().detach() or sourceTensor.clone().detach().requires_grad_(True), rather than torch.tensor(sourceTensor).\n",
      "  return torch.tensor(torch.sum((preds == labels)) / len(preds))\n",
      "C:\\Users\\bierl\\AppData\\Local\\Temp\\ipykernel_22508\\1681313543.py:15: UserWarning: To copy construct from a tensor, it is recommended to use sourceTensor.clone().detach() or sourceTensor.clone().detach().requires_grad_(True), rather than torch.tensor(sourceTensor).\n",
      "  return torch.tensor(torch.sum((preds == labels)) / len(preds))\n"
     ]
    },
    {
     "name": "stdout",
     "output_type": "stream",
     "text": [
      "Epoch:[0]: validation loss: 1.1215227842330933, validation accuracy: 0.26249998807907104,validation f1_score: 0.19493561993561995\n",
      "New batch [0]\n"
     ]
    },
    {
     "name": "stderr",
     "output_type": "stream",
     "text": [
      "C:\\Users\\bierl\\AppData\\Local\\Temp\\ipykernel_22508\\1681313543.py:15: UserWarning: To copy construct from a tensor, it is recommended to use sourceTensor.clone().detach() or sourceTensor.clone().detach().requires_grad_(True), rather than torch.tensor(sourceTensor).\n",
      "  return torch.tensor(torch.sum((preds == labels)) / len(preds))\n"
     ]
    },
    {
     "name": "stdout",
     "output_type": "stream",
     "text": [
      "New batch [1]\n"
     ]
    },
    {
     "name": "stderr",
     "output_type": "stream",
     "text": [
      "C:\\Users\\bierl\\AppData\\Local\\Temp\\ipykernel_22508\\1681313543.py:15: UserWarning: To copy construct from a tensor, it is recommended to use sourceTensor.clone().detach() or sourceTensor.clone().detach().requires_grad_(True), rather than torch.tensor(sourceTensor).\n",
      "  return torch.tensor(torch.sum((preds == labels)) / len(preds))\n"
     ]
    },
    {
     "name": "stdout",
     "output_type": "stream",
     "text": [
      "New batch [2]\n"
     ]
    },
    {
     "name": "stderr",
     "output_type": "stream",
     "text": [
      "C:\\Users\\bierl\\AppData\\Local\\Temp\\ipykernel_22508\\1681313543.py:15: UserWarning: To copy construct from a tensor, it is recommended to use sourceTensor.clone().detach() or sourceTensor.clone().detach().requires_grad_(True), rather than torch.tensor(sourceTensor).\n",
      "  return torch.tensor(torch.sum((preds == labels)) / len(preds))\n"
     ]
    },
    {
     "name": "stdout",
     "output_type": "stream",
     "text": [
      "New batch [3]\n"
     ]
    },
    {
     "name": "stderr",
     "output_type": "stream",
     "text": [
      "C:\\Users\\bierl\\AppData\\Local\\Temp\\ipykernel_22508\\1681313543.py:15: UserWarning: To copy construct from a tensor, it is recommended to use sourceTensor.clone().detach() or sourceTensor.clone().detach().requires_grad_(True), rather than torch.tensor(sourceTensor).\n",
      "  return torch.tensor(torch.sum((preds == labels)) / len(preds))\n"
     ]
    },
    {
     "name": "stdout",
     "output_type": "stream",
     "text": [
      "New batch [4]\n"
     ]
    },
    {
     "name": "stderr",
     "output_type": "stream",
     "text": [
      "C:\\Users\\bierl\\AppData\\Local\\Temp\\ipykernel_22508\\1681313543.py:15: UserWarning: To copy construct from a tensor, it is recommended to use sourceTensor.clone().detach() or sourceTensor.clone().detach().requires_grad_(True), rather than torch.tensor(sourceTensor).\n",
      "  return torch.tensor(torch.sum((preds == labels)) / len(preds))\n"
     ]
    },
    {
     "name": "stdout",
     "output_type": "stream",
     "text": [
      "New batch [5]\n"
     ]
    },
    {
     "name": "stderr",
     "output_type": "stream",
     "text": [
      "C:\\Users\\bierl\\AppData\\Local\\Temp\\ipykernel_22508\\1681313543.py:15: UserWarning: To copy construct from a tensor, it is recommended to use sourceTensor.clone().detach() or sourceTensor.clone().detach().requires_grad_(True), rather than torch.tensor(sourceTensor).\n",
      "  return torch.tensor(torch.sum((preds == labels)) / len(preds))\n"
     ]
    },
    {
     "name": "stdout",
     "output_type": "stream",
     "text": [
      "New batch [6]\n"
     ]
    },
    {
     "name": "stderr",
     "output_type": "stream",
     "text": [
      "C:\\Users\\bierl\\AppData\\Local\\Temp\\ipykernel_22508\\1681313543.py:15: UserWarning: To copy construct from a tensor, it is recommended to use sourceTensor.clone().detach() or sourceTensor.clone().detach().requires_grad_(True), rather than torch.tensor(sourceTensor).\n",
      "  return torch.tensor(torch.sum((preds == labels)) / len(preds))\n"
     ]
    },
    {
     "name": "stdout",
     "output_type": "stream",
     "text": [
      "New batch [7]\n"
     ]
    },
    {
     "name": "stderr",
     "output_type": "stream",
     "text": [
      "C:\\Users\\bierl\\AppData\\Local\\Temp\\ipykernel_22508\\1681313543.py:15: UserWarning: To copy construct from a tensor, it is recommended to use sourceTensor.clone().detach() or sourceTensor.clone().detach().requires_grad_(True), rather than torch.tensor(sourceTensor).\n",
      "  return torch.tensor(torch.sum((preds == labels)) / len(preds))\n"
     ]
    },
    {
     "name": "stdout",
     "output_type": "stream",
     "text": [
      "New batch [8]\n"
     ]
    },
    {
     "name": "stderr",
     "output_type": "stream",
     "text": [
      "C:\\Users\\bierl\\AppData\\Local\\Temp\\ipykernel_22508\\1681313543.py:15: UserWarning: To copy construct from a tensor, it is recommended to use sourceTensor.clone().detach() or sourceTensor.clone().detach().requires_grad_(True), rather than torch.tensor(sourceTensor).\n",
      "  return torch.tensor(torch.sum((preds == labels)) / len(preds))\n"
     ]
    },
    {
     "name": "stdout",
     "output_type": "stream",
     "text": [
      "New batch [9]\n"
     ]
    },
    {
     "name": "stderr",
     "output_type": "stream",
     "text": [
      "C:\\Users\\bierl\\AppData\\Local\\Temp\\ipykernel_22508\\1681313543.py:15: UserWarning: To copy construct from a tensor, it is recommended to use sourceTensor.clone().detach() or sourceTensor.clone().detach().requires_grad_(True), rather than torch.tensor(sourceTensor).\n",
      "  return torch.tensor(torch.sum((preds == labels)) / len(preds))\n"
     ]
    },
    {
     "name": "stdout",
     "output_type": "stream",
     "text": [
      "New batch [10]\n"
     ]
    },
    {
     "name": "stderr",
     "output_type": "stream",
     "text": [
      "C:\\Users\\bierl\\AppData\\Local\\Temp\\ipykernel_22508\\1681313543.py:15: UserWarning: To copy construct from a tensor, it is recommended to use sourceTensor.clone().detach() or sourceTensor.clone().detach().requires_grad_(True), rather than torch.tensor(sourceTensor).\n",
      "  return torch.tensor(torch.sum((preds == labels)) / len(preds))\n"
     ]
    },
    {
     "name": "stdout",
     "output_type": "stream",
     "text": [
      "New batch [11]\n"
     ]
    },
    {
     "name": "stderr",
     "output_type": "stream",
     "text": [
      "C:\\Users\\bierl\\AppData\\Local\\Temp\\ipykernel_22508\\1681313543.py:15: UserWarning: To copy construct from a tensor, it is recommended to use sourceTensor.clone().detach() or sourceTensor.clone().detach().requires_grad_(True), rather than torch.tensor(sourceTensor).\n",
      "  return torch.tensor(torch.sum((preds == labels)) / len(preds))\n"
     ]
    },
    {
     "name": "stdout",
     "output_type": "stream",
     "text": [
      "New batch [12]\n"
     ]
    },
    {
     "name": "stderr",
     "output_type": "stream",
     "text": [
      "C:\\Users\\bierl\\AppData\\Local\\Temp\\ipykernel_22508\\1681313543.py:15: UserWarning: To copy construct from a tensor, it is recommended to use sourceTensor.clone().detach() or sourceTensor.clone().detach().requires_grad_(True), rather than torch.tensor(sourceTensor).\n",
      "  return torch.tensor(torch.sum((preds == labels)) / len(preds))\n"
     ]
    },
    {
     "name": "stdout",
     "output_type": "stream",
     "text": [
      "New batch [13]\n"
     ]
    },
    {
     "name": "stderr",
     "output_type": "stream",
     "text": [
      "C:\\Users\\bierl\\AppData\\Local\\Temp\\ipykernel_22508\\1681313543.py:15: UserWarning: To copy construct from a tensor, it is recommended to use sourceTensor.clone().detach() or sourceTensor.clone().detach().requires_grad_(True), rather than torch.tensor(sourceTensor).\n",
      "  return torch.tensor(torch.sum((preds == labels)) / len(preds))\n"
     ]
    },
    {
     "name": "stdout",
     "output_type": "stream",
     "text": [
      "New batch [14]\n"
     ]
    },
    {
     "name": "stderr",
     "output_type": "stream",
     "text": [
      "C:\\Users\\bierl\\AppData\\Local\\Temp\\ipykernel_22508\\1681313543.py:15: UserWarning: To copy construct from a tensor, it is recommended to use sourceTensor.clone().detach() or sourceTensor.clone().detach().requires_grad_(True), rather than torch.tensor(sourceTensor).\n",
      "  return torch.tensor(torch.sum((preds == labels)) / len(preds))\n"
     ]
    },
    {
     "name": "stdout",
     "output_type": "stream",
     "text": [
      "New batch [15]\n"
     ]
    },
    {
     "name": "stderr",
     "output_type": "stream",
     "text": [
      "C:\\Users\\bierl\\AppData\\Local\\Temp\\ipykernel_22508\\1681313543.py:15: UserWarning: To copy construct from a tensor, it is recommended to use sourceTensor.clone().detach() or sourceTensor.clone().detach().requires_grad_(True), rather than torch.tensor(sourceTensor).\n",
      "  return torch.tensor(torch.sum((preds == labels)) / len(preds))\n",
      "C:\\Users\\bierl\\AppData\\Local\\Temp\\ipykernel_22508\\1681313543.py:15: UserWarning: To copy construct from a tensor, it is recommended to use sourceTensor.clone().detach() or sourceTensor.clone().detach().requires_grad_(True), rather than torch.tensor(sourceTensor).\n",
      "  return torch.tensor(torch.sum((preds == labels)) / len(preds))\n",
      "C:\\Users\\bierl\\AppData\\Local\\Temp\\ipykernel_22508\\1681313543.py:15: UserWarning: To copy construct from a tensor, it is recommended to use sourceTensor.clone().detach() or sourceTensor.clone().detach().requires_grad_(True), rather than torch.tensor(sourceTensor).\n",
      "  return torch.tensor(torch.sum((preds == labels)) / len(preds))\n",
      "C:\\Users\\bierl\\AppData\\Local\\Temp\\ipykernel_22508\\1681313543.py:15: UserWarning: To copy construct from a tensor, it is recommended to use sourceTensor.clone().detach() or sourceTensor.clone().detach().requires_grad_(True), rather than torch.tensor(sourceTensor).\n",
      "  return torch.tensor(torch.sum((preds == labels)) / len(preds))\n",
      "C:\\Users\\bierl\\AppData\\Local\\Temp\\ipykernel_22508\\1681313543.py:15: UserWarning: To copy construct from a tensor, it is recommended to use sourceTensor.clone().detach() or sourceTensor.clone().detach().requires_grad_(True), rather than torch.tensor(sourceTensor).\n",
      "  return torch.tensor(torch.sum((preds == labels)) / len(preds))\n",
      "C:\\Users\\bierl\\AppData\\Local\\Temp\\ipykernel_22508\\1681313543.py:15: UserWarning: To copy construct from a tensor, it is recommended to use sourceTensor.clone().detach() or sourceTensor.clone().detach().requires_grad_(True), rather than torch.tensor(sourceTensor).\n",
      "  return torch.tensor(torch.sum((preds == labels)) / len(preds))\n"
     ]
    },
    {
     "name": "stdout",
     "output_type": "stream",
     "text": [
      "Epoch:[1]: validation loss: 1.1220871210098267, validation accuracy: 0.17499999701976776,validation f1_score: 0.14376068376068377\n",
      "New batch [0]\n"
     ]
    },
    {
     "name": "stderr",
     "output_type": "stream",
     "text": [
      "C:\\Users\\bierl\\AppData\\Local\\Temp\\ipykernel_22508\\1681313543.py:15: UserWarning: To copy construct from a tensor, it is recommended to use sourceTensor.clone().detach() or sourceTensor.clone().detach().requires_grad_(True), rather than torch.tensor(sourceTensor).\n",
      "  return torch.tensor(torch.sum((preds == labels)) / len(preds))\n"
     ]
    },
    {
     "name": "stdout",
     "output_type": "stream",
     "text": [
      "New batch [1]\n"
     ]
    },
    {
     "name": "stderr",
     "output_type": "stream",
     "text": [
      "C:\\Users\\bierl\\AppData\\Local\\Temp\\ipykernel_22508\\1681313543.py:15: UserWarning: To copy construct from a tensor, it is recommended to use sourceTensor.clone().detach() or sourceTensor.clone().detach().requires_grad_(True), rather than torch.tensor(sourceTensor).\n",
      "  return torch.tensor(torch.sum((preds == labels)) / len(preds))\n"
     ]
    },
    {
     "name": "stdout",
     "output_type": "stream",
     "text": [
      "New batch [2]\n"
     ]
    },
    {
     "name": "stderr",
     "output_type": "stream",
     "text": [
      "C:\\Users\\bierl\\AppData\\Local\\Temp\\ipykernel_22508\\1681313543.py:15: UserWarning: To copy construct from a tensor, it is recommended to use sourceTensor.clone().detach() or sourceTensor.clone().detach().requires_grad_(True), rather than torch.tensor(sourceTensor).\n",
      "  return torch.tensor(torch.sum((preds == labels)) / len(preds))\n"
     ]
    },
    {
     "name": "stdout",
     "output_type": "stream",
     "text": [
      "New batch [3]\n"
     ]
    },
    {
     "name": "stderr",
     "output_type": "stream",
     "text": [
      "C:\\Users\\bierl\\AppData\\Local\\Temp\\ipykernel_22508\\1681313543.py:15: UserWarning: To copy construct from a tensor, it is recommended to use sourceTensor.clone().detach() or sourceTensor.clone().detach().requires_grad_(True), rather than torch.tensor(sourceTensor).\n",
      "  return torch.tensor(torch.sum((preds == labels)) / len(preds))\n"
     ]
    },
    {
     "name": "stdout",
     "output_type": "stream",
     "text": [
      "New batch [4]\n"
     ]
    },
    {
     "name": "stderr",
     "output_type": "stream",
     "text": [
      "C:\\Users\\bierl\\AppData\\Local\\Temp\\ipykernel_22508\\1681313543.py:15: UserWarning: To copy construct from a tensor, it is recommended to use sourceTensor.clone().detach() or sourceTensor.clone().detach().requires_grad_(True), rather than torch.tensor(sourceTensor).\n",
      "  return torch.tensor(torch.sum((preds == labels)) / len(preds))\n"
     ]
    },
    {
     "name": "stdout",
     "output_type": "stream",
     "text": [
      "New batch [5]\n"
     ]
    },
    {
     "name": "stderr",
     "output_type": "stream",
     "text": [
      "C:\\Users\\bierl\\AppData\\Local\\Temp\\ipykernel_22508\\1681313543.py:15: UserWarning: To copy construct from a tensor, it is recommended to use sourceTensor.clone().detach() or sourceTensor.clone().detach().requires_grad_(True), rather than torch.tensor(sourceTensor).\n",
      "  return torch.tensor(torch.sum((preds == labels)) / len(preds))\n"
     ]
    },
    {
     "name": "stdout",
     "output_type": "stream",
     "text": [
      "New batch [6]\n"
     ]
    },
    {
     "name": "stderr",
     "output_type": "stream",
     "text": [
      "C:\\Users\\bierl\\AppData\\Local\\Temp\\ipykernel_22508\\1681313543.py:15: UserWarning: To copy construct from a tensor, it is recommended to use sourceTensor.clone().detach() or sourceTensor.clone().detach().requires_grad_(True), rather than torch.tensor(sourceTensor).\n",
      "  return torch.tensor(torch.sum((preds == labels)) / len(preds))\n"
     ]
    },
    {
     "name": "stdout",
     "output_type": "stream",
     "text": [
      "New batch [7]\n"
     ]
    },
    {
     "name": "stderr",
     "output_type": "stream",
     "text": [
      "C:\\Users\\bierl\\AppData\\Local\\Temp\\ipykernel_22508\\1681313543.py:15: UserWarning: To copy construct from a tensor, it is recommended to use sourceTensor.clone().detach() or sourceTensor.clone().detach().requires_grad_(True), rather than torch.tensor(sourceTensor).\n",
      "  return torch.tensor(torch.sum((preds == labels)) / len(preds))\n"
     ]
    },
    {
     "name": "stdout",
     "output_type": "stream",
     "text": [
      "New batch [8]\n"
     ]
    },
    {
     "name": "stderr",
     "output_type": "stream",
     "text": [
      "C:\\Users\\bierl\\AppData\\Local\\Temp\\ipykernel_22508\\1681313543.py:15: UserWarning: To copy construct from a tensor, it is recommended to use sourceTensor.clone().detach() or sourceTensor.clone().detach().requires_grad_(True), rather than torch.tensor(sourceTensor).\n",
      "  return torch.tensor(torch.sum((preds == labels)) / len(preds))\n"
     ]
    },
    {
     "name": "stdout",
     "output_type": "stream",
     "text": [
      "New batch [9]\n"
     ]
    },
    {
     "name": "stderr",
     "output_type": "stream",
     "text": [
      "C:\\Users\\bierl\\AppData\\Local\\Temp\\ipykernel_22508\\1681313543.py:15: UserWarning: To copy construct from a tensor, it is recommended to use sourceTensor.clone().detach() or sourceTensor.clone().detach().requires_grad_(True), rather than torch.tensor(sourceTensor).\n",
      "  return torch.tensor(torch.sum((preds == labels)) / len(preds))\n"
     ]
    },
    {
     "name": "stdout",
     "output_type": "stream",
     "text": [
      "New batch [10]\n"
     ]
    },
    {
     "name": "stderr",
     "output_type": "stream",
     "text": [
      "C:\\Users\\bierl\\AppData\\Local\\Temp\\ipykernel_22508\\1681313543.py:15: UserWarning: To copy construct from a tensor, it is recommended to use sourceTensor.clone().detach() or sourceTensor.clone().detach().requires_grad_(True), rather than torch.tensor(sourceTensor).\n",
      "  return torch.tensor(torch.sum((preds == labels)) / len(preds))\n"
     ]
    },
    {
     "name": "stdout",
     "output_type": "stream",
     "text": [
      "New batch [11]\n"
     ]
    },
    {
     "name": "stderr",
     "output_type": "stream",
     "text": [
      "C:\\Users\\bierl\\AppData\\Local\\Temp\\ipykernel_22508\\1681313543.py:15: UserWarning: To copy construct from a tensor, it is recommended to use sourceTensor.clone().detach() or sourceTensor.clone().detach().requires_grad_(True), rather than torch.tensor(sourceTensor).\n",
      "  return torch.tensor(torch.sum((preds == labels)) / len(preds))\n"
     ]
    },
    {
     "name": "stdout",
     "output_type": "stream",
     "text": [
      "New batch [12]\n"
     ]
    },
    {
     "name": "stderr",
     "output_type": "stream",
     "text": [
      "C:\\Users\\bierl\\AppData\\Local\\Temp\\ipykernel_22508\\1681313543.py:15: UserWarning: To copy construct from a tensor, it is recommended to use sourceTensor.clone().detach() or sourceTensor.clone().detach().requires_grad_(True), rather than torch.tensor(sourceTensor).\n",
      "  return torch.tensor(torch.sum((preds == labels)) / len(preds))\n"
     ]
    },
    {
     "name": "stdout",
     "output_type": "stream",
     "text": [
      "New batch [13]\n"
     ]
    },
    {
     "name": "stderr",
     "output_type": "stream",
     "text": [
      "C:\\Users\\bierl\\AppData\\Local\\Temp\\ipykernel_22508\\1681313543.py:15: UserWarning: To copy construct from a tensor, it is recommended to use sourceTensor.clone().detach() or sourceTensor.clone().detach().requires_grad_(True), rather than torch.tensor(sourceTensor).\n",
      "  return torch.tensor(torch.sum((preds == labels)) / len(preds))\n"
     ]
    },
    {
     "name": "stdout",
     "output_type": "stream",
     "text": [
      "New batch [14]\n"
     ]
    },
    {
     "name": "stderr",
     "output_type": "stream",
     "text": [
      "C:\\Users\\bierl\\AppData\\Local\\Temp\\ipykernel_22508\\1681313543.py:15: UserWarning: To copy construct from a tensor, it is recommended to use sourceTensor.clone().detach() or sourceTensor.clone().detach().requires_grad_(True), rather than torch.tensor(sourceTensor).\n",
      "  return torch.tensor(torch.sum((preds == labels)) / len(preds))\n"
     ]
    },
    {
     "name": "stdout",
     "output_type": "stream",
     "text": [
      "New batch [15]\n"
     ]
    },
    {
     "name": "stderr",
     "output_type": "stream",
     "text": [
      "C:\\Users\\bierl\\AppData\\Local\\Temp\\ipykernel_22508\\1681313543.py:15: UserWarning: To copy construct from a tensor, it is recommended to use sourceTensor.clone().detach() or sourceTensor.clone().detach().requires_grad_(True), rather than torch.tensor(sourceTensor).\n",
      "  return torch.tensor(torch.sum((preds == labels)) / len(preds))\n",
      "C:\\Users\\bierl\\AppData\\Local\\Temp\\ipykernel_22508\\1681313543.py:15: UserWarning: To copy construct from a tensor, it is recommended to use sourceTensor.clone().detach() or sourceTensor.clone().detach().requires_grad_(True), rather than torch.tensor(sourceTensor).\n",
      "  return torch.tensor(torch.sum((preds == labels)) / len(preds))\n",
      "C:\\Users\\bierl\\AppData\\Local\\Temp\\ipykernel_22508\\1681313543.py:15: UserWarning: To copy construct from a tensor, it is recommended to use sourceTensor.clone().detach() or sourceTensor.clone().detach().requires_grad_(True), rather than torch.tensor(sourceTensor).\n",
      "  return torch.tensor(torch.sum((preds == labels)) / len(preds))\n",
      "C:\\Users\\bierl\\AppData\\Local\\Temp\\ipykernel_22508\\1681313543.py:15: UserWarning: To copy construct from a tensor, it is recommended to use sourceTensor.clone().detach() or sourceTensor.clone().detach().requires_grad_(True), rather than torch.tensor(sourceTensor).\n",
      "  return torch.tensor(torch.sum((preds == labels)) / len(preds))\n",
      "C:\\Users\\bierl\\AppData\\Local\\Temp\\ipykernel_22508\\1681313543.py:15: UserWarning: To copy construct from a tensor, it is recommended to use sourceTensor.clone().detach() or sourceTensor.clone().detach().requires_grad_(True), rather than torch.tensor(sourceTensor).\n",
      "  return torch.tensor(torch.sum((preds == labels)) / len(preds))\n",
      "C:\\Users\\bierl\\AppData\\Local\\Temp\\ipykernel_22508\\1681313543.py:15: UserWarning: To copy construct from a tensor, it is recommended to use sourceTensor.clone().detach() or sourceTensor.clone().detach().requires_grad_(True), rather than torch.tensor(sourceTensor).\n",
      "  return torch.tensor(torch.sum((preds == labels)) / len(preds))\n"
     ]
    },
    {
     "name": "stdout",
     "output_type": "stream",
     "text": [
      "Epoch:[2]: validation loss: 1.1803324222564697, validation accuracy: 0.17499999701976776,validation f1_score: 0.13002849002849\n",
      "New batch [0]\n"
     ]
    },
    {
     "name": "stderr",
     "output_type": "stream",
     "text": [
      "C:\\Users\\bierl\\AppData\\Local\\Temp\\ipykernel_22508\\1681313543.py:15: UserWarning: To copy construct from a tensor, it is recommended to use sourceTensor.clone().detach() or sourceTensor.clone().detach().requires_grad_(True), rather than torch.tensor(sourceTensor).\n",
      "  return torch.tensor(torch.sum((preds == labels)) / len(preds))\n"
     ]
    },
    {
     "name": "stdout",
     "output_type": "stream",
     "text": [
      "New batch [1]\n"
     ]
    },
    {
     "name": "stderr",
     "output_type": "stream",
     "text": [
      "C:\\Users\\bierl\\AppData\\Local\\Temp\\ipykernel_22508\\1681313543.py:15: UserWarning: To copy construct from a tensor, it is recommended to use sourceTensor.clone().detach() or sourceTensor.clone().detach().requires_grad_(True), rather than torch.tensor(sourceTensor).\n",
      "  return torch.tensor(torch.sum((preds == labels)) / len(preds))\n"
     ]
    },
    {
     "name": "stdout",
     "output_type": "stream",
     "text": [
      "New batch [2]\n"
     ]
    },
    {
     "name": "stderr",
     "output_type": "stream",
     "text": [
      "C:\\Users\\bierl\\AppData\\Local\\Temp\\ipykernel_22508\\1681313543.py:15: UserWarning: To copy construct from a tensor, it is recommended to use sourceTensor.clone().detach() or sourceTensor.clone().detach().requires_grad_(True), rather than torch.tensor(sourceTensor).\n",
      "  return torch.tensor(torch.sum((preds == labels)) / len(preds))\n"
     ]
    },
    {
     "name": "stdout",
     "output_type": "stream",
     "text": [
      "New batch [3]\n"
     ]
    },
    {
     "name": "stderr",
     "output_type": "stream",
     "text": [
      "C:\\Users\\bierl\\AppData\\Local\\Temp\\ipykernel_22508\\1681313543.py:15: UserWarning: To copy construct from a tensor, it is recommended to use sourceTensor.clone().detach() or sourceTensor.clone().detach().requires_grad_(True), rather than torch.tensor(sourceTensor).\n",
      "  return torch.tensor(torch.sum((preds == labels)) / len(preds))\n"
     ]
    },
    {
     "name": "stdout",
     "output_type": "stream",
     "text": [
      "New batch [4]\n"
     ]
    },
    {
     "name": "stderr",
     "output_type": "stream",
     "text": [
      "C:\\Users\\bierl\\AppData\\Local\\Temp\\ipykernel_22508\\1681313543.py:15: UserWarning: To copy construct from a tensor, it is recommended to use sourceTensor.clone().detach() or sourceTensor.clone().detach().requires_grad_(True), rather than torch.tensor(sourceTensor).\n",
      "  return torch.tensor(torch.sum((preds == labels)) / len(preds))\n"
     ]
    },
    {
     "name": "stdout",
     "output_type": "stream",
     "text": [
      "New batch [5]\n"
     ]
    },
    {
     "name": "stderr",
     "output_type": "stream",
     "text": [
      "C:\\Users\\bierl\\AppData\\Local\\Temp\\ipykernel_22508\\1681313543.py:15: UserWarning: To copy construct from a tensor, it is recommended to use sourceTensor.clone().detach() or sourceTensor.clone().detach().requires_grad_(True), rather than torch.tensor(sourceTensor).\n",
      "  return torch.tensor(torch.sum((preds == labels)) / len(preds))\n"
     ]
    },
    {
     "name": "stdout",
     "output_type": "stream",
     "text": [
      "New batch [6]\n"
     ]
    },
    {
     "name": "stderr",
     "output_type": "stream",
     "text": [
      "C:\\Users\\bierl\\AppData\\Local\\Temp\\ipykernel_22508\\1681313543.py:15: UserWarning: To copy construct from a tensor, it is recommended to use sourceTensor.clone().detach() or sourceTensor.clone().detach().requires_grad_(True), rather than torch.tensor(sourceTensor).\n",
      "  return torch.tensor(torch.sum((preds == labels)) / len(preds))\n"
     ]
    },
    {
     "name": "stdout",
     "output_type": "stream",
     "text": [
      "New batch [7]\n"
     ]
    },
    {
     "name": "stderr",
     "output_type": "stream",
     "text": [
      "C:\\Users\\bierl\\AppData\\Local\\Temp\\ipykernel_22508\\1681313543.py:15: UserWarning: To copy construct from a tensor, it is recommended to use sourceTensor.clone().detach() or sourceTensor.clone().detach().requires_grad_(True), rather than torch.tensor(sourceTensor).\n",
      "  return torch.tensor(torch.sum((preds == labels)) / len(preds))\n"
     ]
    },
    {
     "name": "stdout",
     "output_type": "stream",
     "text": [
      "New batch [8]\n"
     ]
    },
    {
     "name": "stderr",
     "output_type": "stream",
     "text": [
      "C:\\Users\\bierl\\AppData\\Local\\Temp\\ipykernel_22508\\1681313543.py:15: UserWarning: To copy construct from a tensor, it is recommended to use sourceTensor.clone().detach() or sourceTensor.clone().detach().requires_grad_(True), rather than torch.tensor(sourceTensor).\n",
      "  return torch.tensor(torch.sum((preds == labels)) / len(preds))\n"
     ]
    },
    {
     "name": "stdout",
     "output_type": "stream",
     "text": [
      "New batch [9]\n"
     ]
    },
    {
     "name": "stderr",
     "output_type": "stream",
     "text": [
      "C:\\Users\\bierl\\AppData\\Local\\Temp\\ipykernel_22508\\1681313543.py:15: UserWarning: To copy construct from a tensor, it is recommended to use sourceTensor.clone().detach() or sourceTensor.clone().detach().requires_grad_(True), rather than torch.tensor(sourceTensor).\n",
      "  return torch.tensor(torch.sum((preds == labels)) / len(preds))\n"
     ]
    },
    {
     "name": "stdout",
     "output_type": "stream",
     "text": [
      "New batch [10]\n"
     ]
    },
    {
     "name": "stderr",
     "output_type": "stream",
     "text": [
      "C:\\Users\\bierl\\AppData\\Local\\Temp\\ipykernel_22508\\1681313543.py:15: UserWarning: To copy construct from a tensor, it is recommended to use sourceTensor.clone().detach() or sourceTensor.clone().detach().requires_grad_(True), rather than torch.tensor(sourceTensor).\n",
      "  return torch.tensor(torch.sum((preds == labels)) / len(preds))\n"
     ]
    },
    {
     "name": "stdout",
     "output_type": "stream",
     "text": [
      "New batch [11]\n"
     ]
    },
    {
     "name": "stderr",
     "output_type": "stream",
     "text": [
      "C:\\Users\\bierl\\AppData\\Local\\Temp\\ipykernel_22508\\1681313543.py:15: UserWarning: To copy construct from a tensor, it is recommended to use sourceTensor.clone().detach() or sourceTensor.clone().detach().requires_grad_(True), rather than torch.tensor(sourceTensor).\n",
      "  return torch.tensor(torch.sum((preds == labels)) / len(preds))\n"
     ]
    },
    {
     "name": "stdout",
     "output_type": "stream",
     "text": [
      "New batch [12]\n"
     ]
    },
    {
     "name": "stderr",
     "output_type": "stream",
     "text": [
      "C:\\Users\\bierl\\AppData\\Local\\Temp\\ipykernel_22508\\1681313543.py:15: UserWarning: To copy construct from a tensor, it is recommended to use sourceTensor.clone().detach() or sourceTensor.clone().detach().requires_grad_(True), rather than torch.tensor(sourceTensor).\n",
      "  return torch.tensor(torch.sum((preds == labels)) / len(preds))\n"
     ]
    },
    {
     "name": "stdout",
     "output_type": "stream",
     "text": [
      "New batch [13]\n"
     ]
    },
    {
     "name": "stderr",
     "output_type": "stream",
     "text": [
      "C:\\Users\\bierl\\AppData\\Local\\Temp\\ipykernel_22508\\1681313543.py:15: UserWarning: To copy construct from a tensor, it is recommended to use sourceTensor.clone().detach() or sourceTensor.clone().detach().requires_grad_(True), rather than torch.tensor(sourceTensor).\n",
      "  return torch.tensor(torch.sum((preds == labels)) / len(preds))\n"
     ]
    },
    {
     "name": "stdout",
     "output_type": "stream",
     "text": [
      "New batch [14]\n"
     ]
    },
    {
     "name": "stderr",
     "output_type": "stream",
     "text": [
      "C:\\Users\\bierl\\AppData\\Local\\Temp\\ipykernel_22508\\1681313543.py:15: UserWarning: To copy construct from a tensor, it is recommended to use sourceTensor.clone().detach() or sourceTensor.clone().detach().requires_grad_(True), rather than torch.tensor(sourceTensor).\n",
      "  return torch.tensor(torch.sum((preds == labels)) / len(preds))\n"
     ]
    },
    {
     "name": "stdout",
     "output_type": "stream",
     "text": [
      "New batch [15]\n"
     ]
    },
    {
     "name": "stderr",
     "output_type": "stream",
     "text": [
      "C:\\Users\\bierl\\AppData\\Local\\Temp\\ipykernel_22508\\1681313543.py:15: UserWarning: To copy construct from a tensor, it is recommended to use sourceTensor.clone().detach() or sourceTensor.clone().detach().requires_grad_(True), rather than torch.tensor(sourceTensor).\n",
      "  return torch.tensor(torch.sum((preds == labels)) / len(preds))\n",
      "C:\\Users\\bierl\\AppData\\Local\\Temp\\ipykernel_22508\\1681313543.py:15: UserWarning: To copy construct from a tensor, it is recommended to use sourceTensor.clone().detach() or sourceTensor.clone().detach().requires_grad_(True), rather than torch.tensor(sourceTensor).\n",
      "  return torch.tensor(torch.sum((preds == labels)) / len(preds))\n",
      "C:\\Users\\bierl\\AppData\\Local\\Temp\\ipykernel_22508\\1681313543.py:15: UserWarning: To copy construct from a tensor, it is recommended to use sourceTensor.clone().detach() or sourceTensor.clone().detach().requires_grad_(True), rather than torch.tensor(sourceTensor).\n",
      "  return torch.tensor(torch.sum((preds == labels)) / len(preds))\n",
      "C:\\Users\\bierl\\AppData\\Local\\Temp\\ipykernel_22508\\1681313543.py:15: UserWarning: To copy construct from a tensor, it is recommended to use sourceTensor.clone().detach() or sourceTensor.clone().detach().requires_grad_(True), rather than torch.tensor(sourceTensor).\n",
      "  return torch.tensor(torch.sum((preds == labels)) / len(preds))\n",
      "C:\\Users\\bierl\\AppData\\Local\\Temp\\ipykernel_22508\\1681313543.py:15: UserWarning: To copy construct from a tensor, it is recommended to use sourceTensor.clone().detach() or sourceTensor.clone().detach().requires_grad_(True), rather than torch.tensor(sourceTensor).\n",
      "  return torch.tensor(torch.sum((preds == labels)) / len(preds))\n",
      "C:\\Users\\bierl\\AppData\\Local\\Temp\\ipykernel_22508\\1681313543.py:15: UserWarning: To copy construct from a tensor, it is recommended to use sourceTensor.clone().detach() or sourceTensor.clone().detach().requires_grad_(True), rather than torch.tensor(sourceTensor).\n",
      "  return torch.tensor(torch.sum((preds == labels)) / len(preds))\n"
     ]
    },
    {
     "name": "stdout",
     "output_type": "stream",
     "text": [
      "Epoch:[3]: validation loss: 1.1367475986480713, validation accuracy: 0.17499999701976776,validation f1_score: 0.15125985125985125\n",
      "New batch [0]\n"
     ]
    },
    {
     "name": "stderr",
     "output_type": "stream",
     "text": [
      "C:\\Users\\bierl\\AppData\\Local\\Temp\\ipykernel_22508\\1681313543.py:15: UserWarning: To copy construct from a tensor, it is recommended to use sourceTensor.clone().detach() or sourceTensor.clone().detach().requires_grad_(True), rather than torch.tensor(sourceTensor).\n",
      "  return torch.tensor(torch.sum((preds == labels)) / len(preds))\n"
     ]
    },
    {
     "name": "stdout",
     "output_type": "stream",
     "text": [
      "New batch [1]\n"
     ]
    },
    {
     "name": "stderr",
     "output_type": "stream",
     "text": [
      "C:\\Users\\bierl\\AppData\\Local\\Temp\\ipykernel_22508\\1681313543.py:15: UserWarning: To copy construct from a tensor, it is recommended to use sourceTensor.clone().detach() or sourceTensor.clone().detach().requires_grad_(True), rather than torch.tensor(sourceTensor).\n",
      "  return torch.tensor(torch.sum((preds == labels)) / len(preds))\n"
     ]
    },
    {
     "name": "stdout",
     "output_type": "stream",
     "text": [
      "New batch [2]\n"
     ]
    },
    {
     "name": "stderr",
     "output_type": "stream",
     "text": [
      "C:\\Users\\bierl\\AppData\\Local\\Temp\\ipykernel_22508\\1681313543.py:15: UserWarning: To copy construct from a tensor, it is recommended to use sourceTensor.clone().detach() or sourceTensor.clone().detach().requires_grad_(True), rather than torch.tensor(sourceTensor).\n",
      "  return torch.tensor(torch.sum((preds == labels)) / len(preds))\n"
     ]
    },
    {
     "name": "stdout",
     "output_type": "stream",
     "text": [
      "New batch [3]\n"
     ]
    },
    {
     "name": "stderr",
     "output_type": "stream",
     "text": [
      "C:\\Users\\bierl\\AppData\\Local\\Temp\\ipykernel_22508\\1681313543.py:15: UserWarning: To copy construct from a tensor, it is recommended to use sourceTensor.clone().detach() or sourceTensor.clone().detach().requires_grad_(True), rather than torch.tensor(sourceTensor).\n",
      "  return torch.tensor(torch.sum((preds == labels)) / len(preds))\n"
     ]
    },
    {
     "name": "stdout",
     "output_type": "stream",
     "text": [
      "New batch [4]\n"
     ]
    },
    {
     "name": "stderr",
     "output_type": "stream",
     "text": [
      "C:\\Users\\bierl\\AppData\\Local\\Temp\\ipykernel_22508\\1681313543.py:15: UserWarning: To copy construct from a tensor, it is recommended to use sourceTensor.clone().detach() or sourceTensor.clone().detach().requires_grad_(True), rather than torch.tensor(sourceTensor).\n",
      "  return torch.tensor(torch.sum((preds == labels)) / len(preds))\n"
     ]
    },
    {
     "name": "stdout",
     "output_type": "stream",
     "text": [
      "New batch [5]\n"
     ]
    },
    {
     "name": "stderr",
     "output_type": "stream",
     "text": [
      "C:\\Users\\bierl\\AppData\\Local\\Temp\\ipykernel_22508\\1681313543.py:15: UserWarning: To copy construct from a tensor, it is recommended to use sourceTensor.clone().detach() or sourceTensor.clone().detach().requires_grad_(True), rather than torch.tensor(sourceTensor).\n",
      "  return torch.tensor(torch.sum((preds == labels)) / len(preds))\n"
     ]
    },
    {
     "name": "stdout",
     "output_type": "stream",
     "text": [
      "New batch [6]\n"
     ]
    },
    {
     "name": "stderr",
     "output_type": "stream",
     "text": [
      "C:\\Users\\bierl\\AppData\\Local\\Temp\\ipykernel_22508\\1681313543.py:15: UserWarning: To copy construct from a tensor, it is recommended to use sourceTensor.clone().detach() or sourceTensor.clone().detach().requires_grad_(True), rather than torch.tensor(sourceTensor).\n",
      "  return torch.tensor(torch.sum((preds == labels)) / len(preds))\n"
     ]
    },
    {
     "name": "stdout",
     "output_type": "stream",
     "text": [
      "New batch [7]\n"
     ]
    },
    {
     "name": "stderr",
     "output_type": "stream",
     "text": [
      "C:\\Users\\bierl\\AppData\\Local\\Temp\\ipykernel_22508\\1681313543.py:15: UserWarning: To copy construct from a tensor, it is recommended to use sourceTensor.clone().detach() or sourceTensor.clone().detach().requires_grad_(True), rather than torch.tensor(sourceTensor).\n",
      "  return torch.tensor(torch.sum((preds == labels)) / len(preds))\n"
     ]
    },
    {
     "name": "stdout",
     "output_type": "stream",
     "text": [
      "New batch [8]\n"
     ]
    },
    {
     "name": "stderr",
     "output_type": "stream",
     "text": [
      "C:\\Users\\bierl\\AppData\\Local\\Temp\\ipykernel_22508\\1681313543.py:15: UserWarning: To copy construct from a tensor, it is recommended to use sourceTensor.clone().detach() or sourceTensor.clone().detach().requires_grad_(True), rather than torch.tensor(sourceTensor).\n",
      "  return torch.tensor(torch.sum((preds == labels)) / len(preds))\n"
     ]
    },
    {
     "name": "stdout",
     "output_type": "stream",
     "text": [
      "New batch [9]\n"
     ]
    },
    {
     "name": "stderr",
     "output_type": "stream",
     "text": [
      "C:\\Users\\bierl\\AppData\\Local\\Temp\\ipykernel_22508\\1681313543.py:15: UserWarning: To copy construct from a tensor, it is recommended to use sourceTensor.clone().detach() or sourceTensor.clone().detach().requires_grad_(True), rather than torch.tensor(sourceTensor).\n",
      "  return torch.tensor(torch.sum((preds == labels)) / len(preds))\n"
     ]
    },
    {
     "name": "stdout",
     "output_type": "stream",
     "text": [
      "New batch [10]\n"
     ]
    },
    {
     "name": "stderr",
     "output_type": "stream",
     "text": [
      "C:\\Users\\bierl\\AppData\\Local\\Temp\\ipykernel_22508\\1681313543.py:15: UserWarning: To copy construct from a tensor, it is recommended to use sourceTensor.clone().detach() or sourceTensor.clone().detach().requires_grad_(True), rather than torch.tensor(sourceTensor).\n",
      "  return torch.tensor(torch.sum((preds == labels)) / len(preds))\n"
     ]
    },
    {
     "name": "stdout",
     "output_type": "stream",
     "text": [
      "New batch [11]\n"
     ]
    },
    {
     "name": "stderr",
     "output_type": "stream",
     "text": [
      "C:\\Users\\bierl\\AppData\\Local\\Temp\\ipykernel_22508\\1681313543.py:15: UserWarning: To copy construct from a tensor, it is recommended to use sourceTensor.clone().detach() or sourceTensor.clone().detach().requires_grad_(True), rather than torch.tensor(sourceTensor).\n",
      "  return torch.tensor(torch.sum((preds == labels)) / len(preds))\n"
     ]
    },
    {
     "name": "stdout",
     "output_type": "stream",
     "text": [
      "New batch [12]\n"
     ]
    },
    {
     "name": "stderr",
     "output_type": "stream",
     "text": [
      "C:\\Users\\bierl\\AppData\\Local\\Temp\\ipykernel_22508\\1681313543.py:15: UserWarning: To copy construct from a tensor, it is recommended to use sourceTensor.clone().detach() or sourceTensor.clone().detach().requires_grad_(True), rather than torch.tensor(sourceTensor).\n",
      "  return torch.tensor(torch.sum((preds == labels)) / len(preds))\n"
     ]
    },
    {
     "name": "stdout",
     "output_type": "stream",
     "text": [
      "New batch [13]\n"
     ]
    },
    {
     "name": "stderr",
     "output_type": "stream",
     "text": [
      "C:\\Users\\bierl\\AppData\\Local\\Temp\\ipykernel_22508\\1681313543.py:15: UserWarning: To copy construct from a tensor, it is recommended to use sourceTensor.clone().detach() or sourceTensor.clone().detach().requires_grad_(True), rather than torch.tensor(sourceTensor).\n",
      "  return torch.tensor(torch.sum((preds == labels)) / len(preds))\n"
     ]
    },
    {
     "name": "stdout",
     "output_type": "stream",
     "text": [
      "New batch [14]\n"
     ]
    },
    {
     "name": "stderr",
     "output_type": "stream",
     "text": [
      "C:\\Users\\bierl\\AppData\\Local\\Temp\\ipykernel_22508\\1681313543.py:15: UserWarning: To copy construct from a tensor, it is recommended to use sourceTensor.clone().detach() or sourceTensor.clone().detach().requires_grad_(True), rather than torch.tensor(sourceTensor).\n",
      "  return torch.tensor(torch.sum((preds == labels)) / len(preds))\n"
     ]
    },
    {
     "name": "stdout",
     "output_type": "stream",
     "text": [
      "New batch [15]\n"
     ]
    },
    {
     "name": "stderr",
     "output_type": "stream",
     "text": [
      "C:\\Users\\bierl\\AppData\\Local\\Temp\\ipykernel_22508\\1681313543.py:15: UserWarning: To copy construct from a tensor, it is recommended to use sourceTensor.clone().detach() or sourceTensor.clone().detach().requires_grad_(True), rather than torch.tensor(sourceTensor).\n",
      "  return torch.tensor(torch.sum((preds == labels)) / len(preds))\n",
      "C:\\Users\\bierl\\AppData\\Local\\Temp\\ipykernel_22508\\1681313543.py:15: UserWarning: To copy construct from a tensor, it is recommended to use sourceTensor.clone().detach() or sourceTensor.clone().detach().requires_grad_(True), rather than torch.tensor(sourceTensor).\n",
      "  return torch.tensor(torch.sum((preds == labels)) / len(preds))\n",
      "C:\\Users\\bierl\\AppData\\Local\\Temp\\ipykernel_22508\\1681313543.py:15: UserWarning: To copy construct from a tensor, it is recommended to use sourceTensor.clone().detach() or sourceTensor.clone().detach().requires_grad_(True), rather than torch.tensor(sourceTensor).\n",
      "  return torch.tensor(torch.sum((preds == labels)) / len(preds))\n",
      "C:\\Users\\bierl\\AppData\\Local\\Temp\\ipykernel_22508\\1681313543.py:15: UserWarning: To copy construct from a tensor, it is recommended to use sourceTensor.clone().detach() or sourceTensor.clone().detach().requires_grad_(True), rather than torch.tensor(sourceTensor).\n",
      "  return torch.tensor(torch.sum((preds == labels)) / len(preds))\n",
      "C:\\Users\\bierl\\AppData\\Local\\Temp\\ipykernel_22508\\1681313543.py:15: UserWarning: To copy construct from a tensor, it is recommended to use sourceTensor.clone().detach() or sourceTensor.clone().detach().requires_grad_(True), rather than torch.tensor(sourceTensor).\n",
      "  return torch.tensor(torch.sum((preds == labels)) / len(preds))\n",
      "C:\\Users\\bierl\\AppData\\Local\\Temp\\ipykernel_22508\\1681313543.py:15: UserWarning: To copy construct from a tensor, it is recommended to use sourceTensor.clone().detach() or sourceTensor.clone().detach().requires_grad_(True), rather than torch.tensor(sourceTensor).\n",
      "  return torch.tensor(torch.sum((preds == labels)) / len(preds))\n"
     ]
    },
    {
     "name": "stdout",
     "output_type": "stream",
     "text": [
      "Epoch:[4]: validation loss: 1.1307992935180664, validation accuracy: 0.17499999701976776,validation f1_score: 0.128003848003848\n",
      "New batch [0]\n"
     ]
    },
    {
     "name": "stderr",
     "output_type": "stream",
     "text": [
      "C:\\Users\\bierl\\AppData\\Local\\Temp\\ipykernel_22508\\1681313543.py:15: UserWarning: To copy construct from a tensor, it is recommended to use sourceTensor.clone().detach() or sourceTensor.clone().detach().requires_grad_(True), rather than torch.tensor(sourceTensor).\n",
      "  return torch.tensor(torch.sum((preds == labels)) / len(preds))\n"
     ]
    },
    {
     "name": "stdout",
     "output_type": "stream",
     "text": [
      "New batch [1]\n"
     ]
    },
    {
     "name": "stderr",
     "output_type": "stream",
     "text": [
      "C:\\Users\\bierl\\AppData\\Local\\Temp\\ipykernel_22508\\1681313543.py:15: UserWarning: To copy construct from a tensor, it is recommended to use sourceTensor.clone().detach() or sourceTensor.clone().detach().requires_grad_(True), rather than torch.tensor(sourceTensor).\n",
      "  return torch.tensor(torch.sum((preds == labels)) / len(preds))\n"
     ]
    },
    {
     "name": "stdout",
     "output_type": "stream",
     "text": [
      "New batch [2]\n"
     ]
    },
    {
     "name": "stderr",
     "output_type": "stream",
     "text": [
      "C:\\Users\\bierl\\AppData\\Local\\Temp\\ipykernel_22508\\1681313543.py:15: UserWarning: To copy construct from a tensor, it is recommended to use sourceTensor.clone().detach() or sourceTensor.clone().detach().requires_grad_(True), rather than torch.tensor(sourceTensor).\n",
      "  return torch.tensor(torch.sum((preds == labels)) / len(preds))\n"
     ]
    },
    {
     "name": "stdout",
     "output_type": "stream",
     "text": [
      "New batch [3]\n"
     ]
    },
    {
     "name": "stderr",
     "output_type": "stream",
     "text": [
      "C:\\Users\\bierl\\AppData\\Local\\Temp\\ipykernel_22508\\1681313543.py:15: UserWarning: To copy construct from a tensor, it is recommended to use sourceTensor.clone().detach() or sourceTensor.clone().detach().requires_grad_(True), rather than torch.tensor(sourceTensor).\n",
      "  return torch.tensor(torch.sum((preds == labels)) / len(preds))\n"
     ]
    },
    {
     "name": "stdout",
     "output_type": "stream",
     "text": [
      "New batch [4]\n"
     ]
    },
    {
     "name": "stderr",
     "output_type": "stream",
     "text": [
      "C:\\Users\\bierl\\AppData\\Local\\Temp\\ipykernel_22508\\1681313543.py:15: UserWarning: To copy construct from a tensor, it is recommended to use sourceTensor.clone().detach() or sourceTensor.clone().detach().requires_grad_(True), rather than torch.tensor(sourceTensor).\n",
      "  return torch.tensor(torch.sum((preds == labels)) / len(preds))\n"
     ]
    },
    {
     "name": "stdout",
     "output_type": "stream",
     "text": [
      "New batch [5]\n"
     ]
    },
    {
     "name": "stderr",
     "output_type": "stream",
     "text": [
      "C:\\Users\\bierl\\AppData\\Local\\Temp\\ipykernel_22508\\1681313543.py:15: UserWarning: To copy construct from a tensor, it is recommended to use sourceTensor.clone().detach() or sourceTensor.clone().detach().requires_grad_(True), rather than torch.tensor(sourceTensor).\n",
      "  return torch.tensor(torch.sum((preds == labels)) / len(preds))\n"
     ]
    },
    {
     "name": "stdout",
     "output_type": "stream",
     "text": [
      "New batch [6]\n"
     ]
    },
    {
     "name": "stderr",
     "output_type": "stream",
     "text": [
      "C:\\Users\\bierl\\AppData\\Local\\Temp\\ipykernel_22508\\1681313543.py:15: UserWarning: To copy construct from a tensor, it is recommended to use sourceTensor.clone().detach() or sourceTensor.clone().detach().requires_grad_(True), rather than torch.tensor(sourceTensor).\n",
      "  return torch.tensor(torch.sum((preds == labels)) / len(preds))\n"
     ]
    },
    {
     "name": "stdout",
     "output_type": "stream",
     "text": [
      "New batch [7]\n"
     ]
    },
    {
     "name": "stderr",
     "output_type": "stream",
     "text": [
      "C:\\Users\\bierl\\AppData\\Local\\Temp\\ipykernel_22508\\1681313543.py:15: UserWarning: To copy construct from a tensor, it is recommended to use sourceTensor.clone().detach() or sourceTensor.clone().detach().requires_grad_(True), rather than torch.tensor(sourceTensor).\n",
      "  return torch.tensor(torch.sum((preds == labels)) / len(preds))\n"
     ]
    },
    {
     "name": "stdout",
     "output_type": "stream",
     "text": [
      "New batch [8]\n"
     ]
    },
    {
     "name": "stderr",
     "output_type": "stream",
     "text": [
      "C:\\Users\\bierl\\AppData\\Local\\Temp\\ipykernel_22508\\1681313543.py:15: UserWarning: To copy construct from a tensor, it is recommended to use sourceTensor.clone().detach() or sourceTensor.clone().detach().requires_grad_(True), rather than torch.tensor(sourceTensor).\n",
      "  return torch.tensor(torch.sum((preds == labels)) / len(preds))\n"
     ]
    },
    {
     "name": "stdout",
     "output_type": "stream",
     "text": [
      "New batch [9]\n"
     ]
    },
    {
     "name": "stderr",
     "output_type": "stream",
     "text": [
      "C:\\Users\\bierl\\AppData\\Local\\Temp\\ipykernel_22508\\1681313543.py:15: UserWarning: To copy construct from a tensor, it is recommended to use sourceTensor.clone().detach() or sourceTensor.clone().detach().requires_grad_(True), rather than torch.tensor(sourceTensor).\n",
      "  return torch.tensor(torch.sum((preds == labels)) / len(preds))\n"
     ]
    },
    {
     "name": "stdout",
     "output_type": "stream",
     "text": [
      "New batch [10]\n"
     ]
    },
    {
     "name": "stderr",
     "output_type": "stream",
     "text": [
      "C:\\Users\\bierl\\AppData\\Local\\Temp\\ipykernel_22508\\1681313543.py:15: UserWarning: To copy construct from a tensor, it is recommended to use sourceTensor.clone().detach() or sourceTensor.clone().detach().requires_grad_(True), rather than torch.tensor(sourceTensor).\n",
      "  return torch.tensor(torch.sum((preds == labels)) / len(preds))\n"
     ]
    },
    {
     "name": "stdout",
     "output_type": "stream",
     "text": [
      "New batch [11]\n"
     ]
    },
    {
     "name": "stderr",
     "output_type": "stream",
     "text": [
      "C:\\Users\\bierl\\AppData\\Local\\Temp\\ipykernel_22508\\1681313543.py:15: UserWarning: To copy construct from a tensor, it is recommended to use sourceTensor.clone().detach() or sourceTensor.clone().detach().requires_grad_(True), rather than torch.tensor(sourceTensor).\n",
      "  return torch.tensor(torch.sum((preds == labels)) / len(preds))\n"
     ]
    },
    {
     "name": "stdout",
     "output_type": "stream",
     "text": [
      "New batch [12]\n"
     ]
    },
    {
     "name": "stderr",
     "output_type": "stream",
     "text": [
      "C:\\Users\\bierl\\AppData\\Local\\Temp\\ipykernel_22508\\1681313543.py:15: UserWarning: To copy construct from a tensor, it is recommended to use sourceTensor.clone().detach() or sourceTensor.clone().detach().requires_grad_(True), rather than torch.tensor(sourceTensor).\n",
      "  return torch.tensor(torch.sum((preds == labels)) / len(preds))\n"
     ]
    },
    {
     "name": "stdout",
     "output_type": "stream",
     "text": [
      "New batch [13]\n"
     ]
    },
    {
     "name": "stderr",
     "output_type": "stream",
     "text": [
      "C:\\Users\\bierl\\AppData\\Local\\Temp\\ipykernel_22508\\1681313543.py:15: UserWarning: To copy construct from a tensor, it is recommended to use sourceTensor.clone().detach() or sourceTensor.clone().detach().requires_grad_(True), rather than torch.tensor(sourceTensor).\n",
      "  return torch.tensor(torch.sum((preds == labels)) / len(preds))\n"
     ]
    },
    {
     "name": "stdout",
     "output_type": "stream",
     "text": [
      "New batch [14]\n"
     ]
    },
    {
     "name": "stderr",
     "output_type": "stream",
     "text": [
      "C:\\Users\\bierl\\AppData\\Local\\Temp\\ipykernel_22508\\1681313543.py:15: UserWarning: To copy construct from a tensor, it is recommended to use sourceTensor.clone().detach() or sourceTensor.clone().detach().requires_grad_(True), rather than torch.tensor(sourceTensor).\n",
      "  return torch.tensor(torch.sum((preds == labels)) / len(preds))\n"
     ]
    },
    {
     "name": "stdout",
     "output_type": "stream",
     "text": [
      "New batch [15]\n"
     ]
    },
    {
     "name": "stderr",
     "output_type": "stream",
     "text": [
      "C:\\Users\\bierl\\AppData\\Local\\Temp\\ipykernel_22508\\1681313543.py:15: UserWarning: To copy construct from a tensor, it is recommended to use sourceTensor.clone().detach() or sourceTensor.clone().detach().requires_grad_(True), rather than torch.tensor(sourceTensor).\n",
      "  return torch.tensor(torch.sum((preds == labels)) / len(preds))\n",
      "C:\\Users\\bierl\\AppData\\Local\\Temp\\ipykernel_22508\\1681313543.py:15: UserWarning: To copy construct from a tensor, it is recommended to use sourceTensor.clone().detach() or sourceTensor.clone().detach().requires_grad_(True), rather than torch.tensor(sourceTensor).\n",
      "  return torch.tensor(torch.sum((preds == labels)) / len(preds))\n",
      "C:\\Users\\bierl\\AppData\\Local\\Temp\\ipykernel_22508\\1681313543.py:15: UserWarning: To copy construct from a tensor, it is recommended to use sourceTensor.clone().detach() or sourceTensor.clone().detach().requires_grad_(True), rather than torch.tensor(sourceTensor).\n",
      "  return torch.tensor(torch.sum((preds == labels)) / len(preds))\n",
      "C:\\Users\\bierl\\AppData\\Local\\Temp\\ipykernel_22508\\1681313543.py:15: UserWarning: To copy construct from a tensor, it is recommended to use sourceTensor.clone().detach() or sourceTensor.clone().detach().requires_grad_(True), rather than torch.tensor(sourceTensor).\n",
      "  return torch.tensor(torch.sum((preds == labels)) / len(preds))\n",
      "C:\\Users\\bierl\\AppData\\Local\\Temp\\ipykernel_22508\\1681313543.py:15: UserWarning: To copy construct from a tensor, it is recommended to use sourceTensor.clone().detach() or sourceTensor.clone().detach().requires_grad_(True), rather than torch.tensor(sourceTensor).\n",
      "  return torch.tensor(torch.sum((preds == labels)) / len(preds))\n",
      "C:\\Users\\bierl\\AppData\\Local\\Temp\\ipykernel_22508\\1681313543.py:15: UserWarning: To copy construct from a tensor, it is recommended to use sourceTensor.clone().detach() or sourceTensor.clone().detach().requires_grad_(True), rather than torch.tensor(sourceTensor).\n",
      "  return torch.tensor(torch.sum((preds == labels)) / len(preds))\n"
     ]
    },
    {
     "name": "stdout",
     "output_type": "stream",
     "text": [
      "Epoch:[5]: validation loss: 1.1593087911605835, validation accuracy: 0.17499999701976776,validation f1_score: 0.1383485359955948\n",
      "New batch [0]\n"
     ]
    },
    {
     "name": "stderr",
     "output_type": "stream",
     "text": [
      "C:\\Users\\bierl\\AppData\\Local\\Temp\\ipykernel_22508\\1681313543.py:15: UserWarning: To copy construct from a tensor, it is recommended to use sourceTensor.clone().detach() or sourceTensor.clone().detach().requires_grad_(True), rather than torch.tensor(sourceTensor).\n",
      "  return torch.tensor(torch.sum((preds == labels)) / len(preds))\n"
     ]
    },
    {
     "name": "stdout",
     "output_type": "stream",
     "text": [
      "New batch [1]\n"
     ]
    },
    {
     "name": "stderr",
     "output_type": "stream",
     "text": [
      "C:\\Users\\bierl\\AppData\\Local\\Temp\\ipykernel_22508\\1681313543.py:15: UserWarning: To copy construct from a tensor, it is recommended to use sourceTensor.clone().detach() or sourceTensor.clone().detach().requires_grad_(True), rather than torch.tensor(sourceTensor).\n",
      "  return torch.tensor(torch.sum((preds == labels)) / len(preds))\n"
     ]
    },
    {
     "name": "stdout",
     "output_type": "stream",
     "text": [
      "New batch [2]\n"
     ]
    },
    {
     "name": "stderr",
     "output_type": "stream",
     "text": [
      "C:\\Users\\bierl\\AppData\\Local\\Temp\\ipykernel_22508\\1681313543.py:15: UserWarning: To copy construct from a tensor, it is recommended to use sourceTensor.clone().detach() or sourceTensor.clone().detach().requires_grad_(True), rather than torch.tensor(sourceTensor).\n",
      "  return torch.tensor(torch.sum((preds == labels)) / len(preds))\n"
     ]
    },
    {
     "name": "stdout",
     "output_type": "stream",
     "text": [
      "New batch [3]\n"
     ]
    },
    {
     "name": "stderr",
     "output_type": "stream",
     "text": [
      "C:\\Users\\bierl\\AppData\\Local\\Temp\\ipykernel_22508\\1681313543.py:15: UserWarning: To copy construct from a tensor, it is recommended to use sourceTensor.clone().detach() or sourceTensor.clone().detach().requires_grad_(True), rather than torch.tensor(sourceTensor).\n",
      "  return torch.tensor(torch.sum((preds == labels)) / len(preds))\n"
     ]
    },
    {
     "name": "stdout",
     "output_type": "stream",
     "text": [
      "New batch [4]\n"
     ]
    },
    {
     "name": "stderr",
     "output_type": "stream",
     "text": [
      "C:\\Users\\bierl\\AppData\\Local\\Temp\\ipykernel_22508\\1681313543.py:15: UserWarning: To copy construct from a tensor, it is recommended to use sourceTensor.clone().detach() or sourceTensor.clone().detach().requires_grad_(True), rather than torch.tensor(sourceTensor).\n",
      "  return torch.tensor(torch.sum((preds == labels)) / len(preds))\n"
     ]
    },
    {
     "name": "stdout",
     "output_type": "stream",
     "text": [
      "New batch [5]\n"
     ]
    },
    {
     "name": "stderr",
     "output_type": "stream",
     "text": [
      "C:\\Users\\bierl\\AppData\\Local\\Temp\\ipykernel_22508\\1681313543.py:15: UserWarning: To copy construct from a tensor, it is recommended to use sourceTensor.clone().detach() or sourceTensor.clone().detach().requires_grad_(True), rather than torch.tensor(sourceTensor).\n",
      "  return torch.tensor(torch.sum((preds == labels)) / len(preds))\n"
     ]
    },
    {
     "name": "stdout",
     "output_type": "stream",
     "text": [
      "New batch [6]\n"
     ]
    },
    {
     "name": "stderr",
     "output_type": "stream",
     "text": [
      "C:\\Users\\bierl\\AppData\\Local\\Temp\\ipykernel_22508\\1681313543.py:15: UserWarning: To copy construct from a tensor, it is recommended to use sourceTensor.clone().detach() or sourceTensor.clone().detach().requires_grad_(True), rather than torch.tensor(sourceTensor).\n",
      "  return torch.tensor(torch.sum((preds == labels)) / len(preds))\n"
     ]
    },
    {
     "name": "stdout",
     "output_type": "stream",
     "text": [
      "New batch [7]\n"
     ]
    },
    {
     "name": "stderr",
     "output_type": "stream",
     "text": [
      "C:\\Users\\bierl\\AppData\\Local\\Temp\\ipykernel_22508\\1681313543.py:15: UserWarning: To copy construct from a tensor, it is recommended to use sourceTensor.clone().detach() or sourceTensor.clone().detach().requires_grad_(True), rather than torch.tensor(sourceTensor).\n",
      "  return torch.tensor(torch.sum((preds == labels)) / len(preds))\n"
     ]
    },
    {
     "name": "stdout",
     "output_type": "stream",
     "text": [
      "New batch [8]\n"
     ]
    },
    {
     "name": "stderr",
     "output_type": "stream",
     "text": [
      "C:\\Users\\bierl\\AppData\\Local\\Temp\\ipykernel_22508\\1681313543.py:15: UserWarning: To copy construct from a tensor, it is recommended to use sourceTensor.clone().detach() or sourceTensor.clone().detach().requires_grad_(True), rather than torch.tensor(sourceTensor).\n",
      "  return torch.tensor(torch.sum((preds == labels)) / len(preds))\n"
     ]
    },
    {
     "name": "stdout",
     "output_type": "stream",
     "text": [
      "New batch [9]\n"
     ]
    },
    {
     "name": "stderr",
     "output_type": "stream",
     "text": [
      "C:\\Users\\bierl\\AppData\\Local\\Temp\\ipykernel_22508\\1681313543.py:15: UserWarning: To copy construct from a tensor, it is recommended to use sourceTensor.clone().detach() or sourceTensor.clone().detach().requires_grad_(True), rather than torch.tensor(sourceTensor).\n",
      "  return torch.tensor(torch.sum((preds == labels)) / len(preds))\n"
     ]
    },
    {
     "name": "stdout",
     "output_type": "stream",
     "text": [
      "New batch [10]\n"
     ]
    },
    {
     "name": "stderr",
     "output_type": "stream",
     "text": [
      "C:\\Users\\bierl\\AppData\\Local\\Temp\\ipykernel_22508\\1681313543.py:15: UserWarning: To copy construct from a tensor, it is recommended to use sourceTensor.clone().detach() or sourceTensor.clone().detach().requires_grad_(True), rather than torch.tensor(sourceTensor).\n",
      "  return torch.tensor(torch.sum((preds == labels)) / len(preds))\n"
     ]
    },
    {
     "name": "stdout",
     "output_type": "stream",
     "text": [
      "New batch [11]\n"
     ]
    },
    {
     "name": "stderr",
     "output_type": "stream",
     "text": [
      "C:\\Users\\bierl\\AppData\\Local\\Temp\\ipykernel_22508\\1681313543.py:15: UserWarning: To copy construct from a tensor, it is recommended to use sourceTensor.clone().detach() or sourceTensor.clone().detach().requires_grad_(True), rather than torch.tensor(sourceTensor).\n",
      "  return torch.tensor(torch.sum((preds == labels)) / len(preds))\n"
     ]
    },
    {
     "name": "stdout",
     "output_type": "stream",
     "text": [
      "New batch [12]\n"
     ]
    },
    {
     "name": "stderr",
     "output_type": "stream",
     "text": [
      "C:\\Users\\bierl\\AppData\\Local\\Temp\\ipykernel_22508\\1681313543.py:15: UserWarning: To copy construct from a tensor, it is recommended to use sourceTensor.clone().detach() or sourceTensor.clone().detach().requires_grad_(True), rather than torch.tensor(sourceTensor).\n",
      "  return torch.tensor(torch.sum((preds == labels)) / len(preds))\n"
     ]
    },
    {
     "name": "stdout",
     "output_type": "stream",
     "text": [
      "New batch [13]\n"
     ]
    },
    {
     "name": "stderr",
     "output_type": "stream",
     "text": [
      "C:\\Users\\bierl\\AppData\\Local\\Temp\\ipykernel_22508\\1681313543.py:15: UserWarning: To copy construct from a tensor, it is recommended to use sourceTensor.clone().detach() or sourceTensor.clone().detach().requires_grad_(True), rather than torch.tensor(sourceTensor).\n",
      "  return torch.tensor(torch.sum((preds == labels)) / len(preds))\n"
     ]
    },
    {
     "name": "stdout",
     "output_type": "stream",
     "text": [
      "New batch [14]\n"
     ]
    },
    {
     "name": "stderr",
     "output_type": "stream",
     "text": [
      "C:\\Users\\bierl\\AppData\\Local\\Temp\\ipykernel_22508\\1681313543.py:15: UserWarning: To copy construct from a tensor, it is recommended to use sourceTensor.clone().detach() or sourceTensor.clone().detach().requires_grad_(True), rather than torch.tensor(sourceTensor).\n",
      "  return torch.tensor(torch.sum((preds == labels)) / len(preds))\n"
     ]
    },
    {
     "name": "stdout",
     "output_type": "stream",
     "text": [
      "New batch [15]\n"
     ]
    },
    {
     "name": "stderr",
     "output_type": "stream",
     "text": [
      "C:\\Users\\bierl\\AppData\\Local\\Temp\\ipykernel_22508\\1681313543.py:15: UserWarning: To copy construct from a tensor, it is recommended to use sourceTensor.clone().detach() or sourceTensor.clone().detach().requires_grad_(True), rather than torch.tensor(sourceTensor).\n",
      "  return torch.tensor(torch.sum((preds == labels)) / len(preds))\n",
      "C:\\Users\\bierl\\AppData\\Local\\Temp\\ipykernel_22508\\1681313543.py:15: UserWarning: To copy construct from a tensor, it is recommended to use sourceTensor.clone().detach() or sourceTensor.clone().detach().requires_grad_(True), rather than torch.tensor(sourceTensor).\n",
      "  return torch.tensor(torch.sum((preds == labels)) / len(preds))\n",
      "C:\\Users\\bierl\\AppData\\Local\\Temp\\ipykernel_22508\\1681313543.py:15: UserWarning: To copy construct from a tensor, it is recommended to use sourceTensor.clone().detach() or sourceTensor.clone().detach().requires_grad_(True), rather than torch.tensor(sourceTensor).\n",
      "  return torch.tensor(torch.sum((preds == labels)) / len(preds))\n",
      "C:\\Users\\bierl\\AppData\\Local\\Temp\\ipykernel_22508\\1681313543.py:15: UserWarning: To copy construct from a tensor, it is recommended to use sourceTensor.clone().detach() or sourceTensor.clone().detach().requires_grad_(True), rather than torch.tensor(sourceTensor).\n",
      "  return torch.tensor(torch.sum((preds == labels)) / len(preds))\n",
      "C:\\Users\\bierl\\AppData\\Local\\Temp\\ipykernel_22508\\1681313543.py:15: UserWarning: To copy construct from a tensor, it is recommended to use sourceTensor.clone().detach() or sourceTensor.clone().detach().requires_grad_(True), rather than torch.tensor(sourceTensor).\n",
      "  return torch.tensor(torch.sum((preds == labels)) / len(preds))\n",
      "C:\\Users\\bierl\\AppData\\Local\\Temp\\ipykernel_22508\\1681313543.py:15: UserWarning: To copy construct from a tensor, it is recommended to use sourceTensor.clone().detach() or sourceTensor.clone().detach().requires_grad_(True), rather than torch.tensor(sourceTensor).\n",
      "  return torch.tensor(torch.sum((preds == labels)) / len(preds))\n"
     ]
    },
    {
     "name": "stdout",
     "output_type": "stream",
     "text": [
      "Epoch:[6]: validation loss: 1.118317723274231, validation accuracy: 0.26249998807907104,validation f1_score: 0.19394122217651627\n",
      "New batch [0]\n"
     ]
    },
    {
     "name": "stderr",
     "output_type": "stream",
     "text": [
      "C:\\Users\\bierl\\AppData\\Local\\Temp\\ipykernel_22508\\1681313543.py:15: UserWarning: To copy construct from a tensor, it is recommended to use sourceTensor.clone().detach() or sourceTensor.clone().detach().requires_grad_(True), rather than torch.tensor(sourceTensor).\n",
      "  return torch.tensor(torch.sum((preds == labels)) / len(preds))\n"
     ]
    },
    {
     "name": "stdout",
     "output_type": "stream",
     "text": [
      "New batch [1]\n"
     ]
    },
    {
     "name": "stderr",
     "output_type": "stream",
     "text": [
      "C:\\Users\\bierl\\AppData\\Local\\Temp\\ipykernel_22508\\1681313543.py:15: UserWarning: To copy construct from a tensor, it is recommended to use sourceTensor.clone().detach() or sourceTensor.clone().detach().requires_grad_(True), rather than torch.tensor(sourceTensor).\n",
      "  return torch.tensor(torch.sum((preds == labels)) / len(preds))\n"
     ]
    },
    {
     "name": "stdout",
     "output_type": "stream",
     "text": [
      "New batch [2]\n"
     ]
    },
    {
     "name": "stderr",
     "output_type": "stream",
     "text": [
      "C:\\Users\\bierl\\AppData\\Local\\Temp\\ipykernel_22508\\1681313543.py:15: UserWarning: To copy construct from a tensor, it is recommended to use sourceTensor.clone().detach() or sourceTensor.clone().detach().requires_grad_(True), rather than torch.tensor(sourceTensor).\n",
      "  return torch.tensor(torch.sum((preds == labels)) / len(preds))\n"
     ]
    },
    {
     "name": "stdout",
     "output_type": "stream",
     "text": [
      "New batch [3]\n"
     ]
    },
    {
     "name": "stderr",
     "output_type": "stream",
     "text": [
      "C:\\Users\\bierl\\AppData\\Local\\Temp\\ipykernel_22508\\1681313543.py:15: UserWarning: To copy construct from a tensor, it is recommended to use sourceTensor.clone().detach() or sourceTensor.clone().detach().requires_grad_(True), rather than torch.tensor(sourceTensor).\n",
      "  return torch.tensor(torch.sum((preds == labels)) / len(preds))\n"
     ]
    },
    {
     "name": "stdout",
     "output_type": "stream",
     "text": [
      "New batch [4]\n"
     ]
    },
    {
     "name": "stderr",
     "output_type": "stream",
     "text": [
      "C:\\Users\\bierl\\AppData\\Local\\Temp\\ipykernel_22508\\1681313543.py:15: UserWarning: To copy construct from a tensor, it is recommended to use sourceTensor.clone().detach() or sourceTensor.clone().detach().requires_grad_(True), rather than torch.tensor(sourceTensor).\n",
      "  return torch.tensor(torch.sum((preds == labels)) / len(preds))\n"
     ]
    },
    {
     "name": "stdout",
     "output_type": "stream",
     "text": [
      "New batch [5]\n"
     ]
    },
    {
     "name": "stderr",
     "output_type": "stream",
     "text": [
      "C:\\Users\\bierl\\AppData\\Local\\Temp\\ipykernel_22508\\1681313543.py:15: UserWarning: To copy construct from a tensor, it is recommended to use sourceTensor.clone().detach() or sourceTensor.clone().detach().requires_grad_(True), rather than torch.tensor(sourceTensor).\n",
      "  return torch.tensor(torch.sum((preds == labels)) / len(preds))\n"
     ]
    },
    {
     "name": "stdout",
     "output_type": "stream",
     "text": [
      "New batch [6]\n"
     ]
    },
    {
     "name": "stderr",
     "output_type": "stream",
     "text": [
      "C:\\Users\\bierl\\AppData\\Local\\Temp\\ipykernel_22508\\1681313543.py:15: UserWarning: To copy construct from a tensor, it is recommended to use sourceTensor.clone().detach() or sourceTensor.clone().detach().requires_grad_(True), rather than torch.tensor(sourceTensor).\n",
      "  return torch.tensor(torch.sum((preds == labels)) / len(preds))\n"
     ]
    },
    {
     "name": "stdout",
     "output_type": "stream",
     "text": [
      "New batch [7]\n"
     ]
    },
    {
     "name": "stderr",
     "output_type": "stream",
     "text": [
      "C:\\Users\\bierl\\AppData\\Local\\Temp\\ipykernel_22508\\1681313543.py:15: UserWarning: To copy construct from a tensor, it is recommended to use sourceTensor.clone().detach() or sourceTensor.clone().detach().requires_grad_(True), rather than torch.tensor(sourceTensor).\n",
      "  return torch.tensor(torch.sum((preds == labels)) / len(preds))\n"
     ]
    },
    {
     "name": "stdout",
     "output_type": "stream",
     "text": [
      "New batch [8]\n"
     ]
    },
    {
     "name": "stderr",
     "output_type": "stream",
     "text": [
      "C:\\Users\\bierl\\AppData\\Local\\Temp\\ipykernel_22508\\1681313543.py:15: UserWarning: To copy construct from a tensor, it is recommended to use sourceTensor.clone().detach() or sourceTensor.clone().detach().requires_grad_(True), rather than torch.tensor(sourceTensor).\n",
      "  return torch.tensor(torch.sum((preds == labels)) / len(preds))\n"
     ]
    },
    {
     "name": "stdout",
     "output_type": "stream",
     "text": [
      "New batch [9]\n"
     ]
    },
    {
     "name": "stderr",
     "output_type": "stream",
     "text": [
      "C:\\Users\\bierl\\AppData\\Local\\Temp\\ipykernel_22508\\1681313543.py:15: UserWarning: To copy construct from a tensor, it is recommended to use sourceTensor.clone().detach() or sourceTensor.clone().detach().requires_grad_(True), rather than torch.tensor(sourceTensor).\n",
      "  return torch.tensor(torch.sum((preds == labels)) / len(preds))\n"
     ]
    },
    {
     "name": "stdout",
     "output_type": "stream",
     "text": [
      "New batch [10]\n"
     ]
    },
    {
     "name": "stderr",
     "output_type": "stream",
     "text": [
      "C:\\Users\\bierl\\AppData\\Local\\Temp\\ipykernel_22508\\1681313543.py:15: UserWarning: To copy construct from a tensor, it is recommended to use sourceTensor.clone().detach() or sourceTensor.clone().detach().requires_grad_(True), rather than torch.tensor(sourceTensor).\n",
      "  return torch.tensor(torch.sum((preds == labels)) / len(preds))\n"
     ]
    },
    {
     "name": "stdout",
     "output_type": "stream",
     "text": [
      "New batch [11]\n"
     ]
    },
    {
     "name": "stderr",
     "output_type": "stream",
     "text": [
      "C:\\Users\\bierl\\AppData\\Local\\Temp\\ipykernel_22508\\1681313543.py:15: UserWarning: To copy construct from a tensor, it is recommended to use sourceTensor.clone().detach() or sourceTensor.clone().detach().requires_grad_(True), rather than torch.tensor(sourceTensor).\n",
      "  return torch.tensor(torch.sum((preds == labels)) / len(preds))\n"
     ]
    },
    {
     "name": "stdout",
     "output_type": "stream",
     "text": [
      "New batch [12]\n"
     ]
    },
    {
     "name": "stderr",
     "output_type": "stream",
     "text": [
      "C:\\Users\\bierl\\AppData\\Local\\Temp\\ipykernel_22508\\1681313543.py:15: UserWarning: To copy construct from a tensor, it is recommended to use sourceTensor.clone().detach() or sourceTensor.clone().detach().requires_grad_(True), rather than torch.tensor(sourceTensor).\n",
      "  return torch.tensor(torch.sum((preds == labels)) / len(preds))\n"
     ]
    },
    {
     "name": "stdout",
     "output_type": "stream",
     "text": [
      "New batch [13]\n"
     ]
    },
    {
     "name": "stderr",
     "output_type": "stream",
     "text": [
      "C:\\Users\\bierl\\AppData\\Local\\Temp\\ipykernel_22508\\1681313543.py:15: UserWarning: To copy construct from a tensor, it is recommended to use sourceTensor.clone().detach() or sourceTensor.clone().detach().requires_grad_(True), rather than torch.tensor(sourceTensor).\n",
      "  return torch.tensor(torch.sum((preds == labels)) / len(preds))\n"
     ]
    },
    {
     "name": "stdout",
     "output_type": "stream",
     "text": [
      "New batch [14]\n"
     ]
    },
    {
     "name": "stderr",
     "output_type": "stream",
     "text": [
      "C:\\Users\\bierl\\AppData\\Local\\Temp\\ipykernel_22508\\1681313543.py:15: UserWarning: To copy construct from a tensor, it is recommended to use sourceTensor.clone().detach() or sourceTensor.clone().detach().requires_grad_(True), rather than torch.tensor(sourceTensor).\n",
      "  return torch.tensor(torch.sum((preds == labels)) / len(preds))\n"
     ]
    },
    {
     "name": "stdout",
     "output_type": "stream",
     "text": [
      "New batch [15]\n"
     ]
    },
    {
     "name": "stderr",
     "output_type": "stream",
     "text": [
      "C:\\Users\\bierl\\AppData\\Local\\Temp\\ipykernel_22508\\1681313543.py:15: UserWarning: To copy construct from a tensor, it is recommended to use sourceTensor.clone().detach() or sourceTensor.clone().detach().requires_grad_(True), rather than torch.tensor(sourceTensor).\n",
      "  return torch.tensor(torch.sum((preds == labels)) / len(preds))\n",
      "C:\\Users\\bierl\\AppData\\Local\\Temp\\ipykernel_22508\\1681313543.py:15: UserWarning: To copy construct from a tensor, it is recommended to use sourceTensor.clone().detach() or sourceTensor.clone().detach().requires_grad_(True), rather than torch.tensor(sourceTensor).\n",
      "  return torch.tensor(torch.sum((preds == labels)) / len(preds))\n",
      "C:\\Users\\bierl\\AppData\\Local\\Temp\\ipykernel_22508\\1681313543.py:15: UserWarning: To copy construct from a tensor, it is recommended to use sourceTensor.clone().detach() or sourceTensor.clone().detach().requires_grad_(True), rather than torch.tensor(sourceTensor).\n",
      "  return torch.tensor(torch.sum((preds == labels)) / len(preds))\n",
      "C:\\Users\\bierl\\AppData\\Local\\Temp\\ipykernel_22508\\1681313543.py:15: UserWarning: To copy construct from a tensor, it is recommended to use sourceTensor.clone().detach() or sourceTensor.clone().detach().requires_grad_(True), rather than torch.tensor(sourceTensor).\n",
      "  return torch.tensor(torch.sum((preds == labels)) / len(preds))\n",
      "C:\\Users\\bierl\\AppData\\Local\\Temp\\ipykernel_22508\\1681313543.py:15: UserWarning: To copy construct from a tensor, it is recommended to use sourceTensor.clone().detach() or sourceTensor.clone().detach().requires_grad_(True), rather than torch.tensor(sourceTensor).\n",
      "  return torch.tensor(torch.sum((preds == labels)) / len(preds))\n",
      "C:\\Users\\bierl\\AppData\\Local\\Temp\\ipykernel_22508\\1681313543.py:15: UserWarning: To copy construct from a tensor, it is recommended to use sourceTensor.clone().detach() or sourceTensor.clone().detach().requires_grad_(True), rather than torch.tensor(sourceTensor).\n",
      "  return torch.tensor(torch.sum((preds == labels)) / len(preds))\n"
     ]
    },
    {
     "name": "stdout",
     "output_type": "stream",
     "text": [
      "Epoch:[7]: validation loss: 1.1286591291427612, validation accuracy: 0.17499999701976776,validation f1_score: 0.14480260480260482\n",
      "New batch [0]\n"
     ]
    },
    {
     "name": "stderr",
     "output_type": "stream",
     "text": [
      "C:\\Users\\bierl\\AppData\\Local\\Temp\\ipykernel_22508\\1681313543.py:15: UserWarning: To copy construct from a tensor, it is recommended to use sourceTensor.clone().detach() or sourceTensor.clone().detach().requires_grad_(True), rather than torch.tensor(sourceTensor).\n",
      "  return torch.tensor(torch.sum((preds == labels)) / len(preds))\n"
     ]
    },
    {
     "name": "stdout",
     "output_type": "stream",
     "text": [
      "New batch [1]\n"
     ]
    },
    {
     "name": "stderr",
     "output_type": "stream",
     "text": [
      "C:\\Users\\bierl\\AppData\\Local\\Temp\\ipykernel_22508\\1681313543.py:15: UserWarning: To copy construct from a tensor, it is recommended to use sourceTensor.clone().detach() or sourceTensor.clone().detach().requires_grad_(True), rather than torch.tensor(sourceTensor).\n",
      "  return torch.tensor(torch.sum((preds == labels)) / len(preds))\n"
     ]
    },
    {
     "name": "stdout",
     "output_type": "stream",
     "text": [
      "New batch [2]\n"
     ]
    },
    {
     "name": "stderr",
     "output_type": "stream",
     "text": [
      "C:\\Users\\bierl\\AppData\\Local\\Temp\\ipykernel_22508\\1681313543.py:15: UserWarning: To copy construct from a tensor, it is recommended to use sourceTensor.clone().detach() or sourceTensor.clone().detach().requires_grad_(True), rather than torch.tensor(sourceTensor).\n",
      "  return torch.tensor(torch.sum((preds == labels)) / len(preds))\n"
     ]
    },
    {
     "name": "stdout",
     "output_type": "stream",
     "text": [
      "New batch [3]\n"
     ]
    },
    {
     "name": "stderr",
     "output_type": "stream",
     "text": [
      "C:\\Users\\bierl\\AppData\\Local\\Temp\\ipykernel_22508\\1681313543.py:15: UserWarning: To copy construct from a tensor, it is recommended to use sourceTensor.clone().detach() or sourceTensor.clone().detach().requires_grad_(True), rather than torch.tensor(sourceTensor).\n",
      "  return torch.tensor(torch.sum((preds == labels)) / len(preds))\n"
     ]
    },
    {
     "name": "stdout",
     "output_type": "stream",
     "text": [
      "New batch [4]\n"
     ]
    },
    {
     "name": "stderr",
     "output_type": "stream",
     "text": [
      "C:\\Users\\bierl\\AppData\\Local\\Temp\\ipykernel_22508\\1681313543.py:15: UserWarning: To copy construct from a tensor, it is recommended to use sourceTensor.clone().detach() or sourceTensor.clone().detach().requires_grad_(True), rather than torch.tensor(sourceTensor).\n",
      "  return torch.tensor(torch.sum((preds == labels)) / len(preds))\n"
     ]
    },
    {
     "name": "stdout",
     "output_type": "stream",
     "text": [
      "New batch [5]\n"
     ]
    },
    {
     "name": "stderr",
     "output_type": "stream",
     "text": [
      "C:\\Users\\bierl\\AppData\\Local\\Temp\\ipykernel_22508\\1681313543.py:15: UserWarning: To copy construct from a tensor, it is recommended to use sourceTensor.clone().detach() or sourceTensor.clone().detach().requires_grad_(True), rather than torch.tensor(sourceTensor).\n",
      "  return torch.tensor(torch.sum((preds == labels)) / len(preds))\n"
     ]
    },
    {
     "name": "stdout",
     "output_type": "stream",
     "text": [
      "New batch [6]\n"
     ]
    },
    {
     "name": "stderr",
     "output_type": "stream",
     "text": [
      "C:\\Users\\bierl\\AppData\\Local\\Temp\\ipykernel_22508\\1681313543.py:15: UserWarning: To copy construct from a tensor, it is recommended to use sourceTensor.clone().detach() or sourceTensor.clone().detach().requires_grad_(True), rather than torch.tensor(sourceTensor).\n",
      "  return torch.tensor(torch.sum((preds == labels)) / len(preds))\n"
     ]
    },
    {
     "name": "stdout",
     "output_type": "stream",
     "text": [
      "New batch [7]\n"
     ]
    },
    {
     "name": "stderr",
     "output_type": "stream",
     "text": [
      "C:\\Users\\bierl\\AppData\\Local\\Temp\\ipykernel_22508\\1681313543.py:15: UserWarning: To copy construct from a tensor, it is recommended to use sourceTensor.clone().detach() or sourceTensor.clone().detach().requires_grad_(True), rather than torch.tensor(sourceTensor).\n",
      "  return torch.tensor(torch.sum((preds == labels)) / len(preds))\n"
     ]
    },
    {
     "name": "stdout",
     "output_type": "stream",
     "text": [
      "New batch [8]\n"
     ]
    },
    {
     "name": "stderr",
     "output_type": "stream",
     "text": [
      "C:\\Users\\bierl\\AppData\\Local\\Temp\\ipykernel_22508\\1681313543.py:15: UserWarning: To copy construct from a tensor, it is recommended to use sourceTensor.clone().detach() or sourceTensor.clone().detach().requires_grad_(True), rather than torch.tensor(sourceTensor).\n",
      "  return torch.tensor(torch.sum((preds == labels)) / len(preds))\n"
     ]
    },
    {
     "name": "stdout",
     "output_type": "stream",
     "text": [
      "New batch [9]\n"
     ]
    },
    {
     "name": "stderr",
     "output_type": "stream",
     "text": [
      "C:\\Users\\bierl\\AppData\\Local\\Temp\\ipykernel_22508\\1681313543.py:15: UserWarning: To copy construct from a tensor, it is recommended to use sourceTensor.clone().detach() or sourceTensor.clone().detach().requires_grad_(True), rather than torch.tensor(sourceTensor).\n",
      "  return torch.tensor(torch.sum((preds == labels)) / len(preds))\n"
     ]
    },
    {
     "name": "stdout",
     "output_type": "stream",
     "text": [
      "New batch [10]\n"
     ]
    },
    {
     "name": "stderr",
     "output_type": "stream",
     "text": [
      "C:\\Users\\bierl\\AppData\\Local\\Temp\\ipykernel_22508\\1681313543.py:15: UserWarning: To copy construct from a tensor, it is recommended to use sourceTensor.clone().detach() or sourceTensor.clone().detach().requires_grad_(True), rather than torch.tensor(sourceTensor).\n",
      "  return torch.tensor(torch.sum((preds == labels)) / len(preds))\n"
     ]
    },
    {
     "name": "stdout",
     "output_type": "stream",
     "text": [
      "New batch [11]\n"
     ]
    },
    {
     "name": "stderr",
     "output_type": "stream",
     "text": [
      "C:\\Users\\bierl\\AppData\\Local\\Temp\\ipykernel_22508\\1681313543.py:15: UserWarning: To copy construct from a tensor, it is recommended to use sourceTensor.clone().detach() or sourceTensor.clone().detach().requires_grad_(True), rather than torch.tensor(sourceTensor).\n",
      "  return torch.tensor(torch.sum((preds == labels)) / len(preds))\n"
     ]
    },
    {
     "name": "stdout",
     "output_type": "stream",
     "text": [
      "New batch [12]\n"
     ]
    },
    {
     "name": "stderr",
     "output_type": "stream",
     "text": [
      "C:\\Users\\bierl\\AppData\\Local\\Temp\\ipykernel_22508\\1681313543.py:15: UserWarning: To copy construct from a tensor, it is recommended to use sourceTensor.clone().detach() or sourceTensor.clone().detach().requires_grad_(True), rather than torch.tensor(sourceTensor).\n",
      "  return torch.tensor(torch.sum((preds == labels)) / len(preds))\n"
     ]
    },
    {
     "name": "stdout",
     "output_type": "stream",
     "text": [
      "New batch [13]\n"
     ]
    },
    {
     "name": "stderr",
     "output_type": "stream",
     "text": [
      "C:\\Users\\bierl\\AppData\\Local\\Temp\\ipykernel_22508\\1681313543.py:15: UserWarning: To copy construct from a tensor, it is recommended to use sourceTensor.clone().detach() or sourceTensor.clone().detach().requires_grad_(True), rather than torch.tensor(sourceTensor).\n",
      "  return torch.tensor(torch.sum((preds == labels)) / len(preds))\n"
     ]
    },
    {
     "name": "stdout",
     "output_type": "stream",
     "text": [
      "New batch [14]\n"
     ]
    },
    {
     "name": "stderr",
     "output_type": "stream",
     "text": [
      "C:\\Users\\bierl\\AppData\\Local\\Temp\\ipykernel_22508\\1681313543.py:15: UserWarning: To copy construct from a tensor, it is recommended to use sourceTensor.clone().detach() or sourceTensor.clone().detach().requires_grad_(True), rather than torch.tensor(sourceTensor).\n",
      "  return torch.tensor(torch.sum((preds == labels)) / len(preds))\n"
     ]
    },
    {
     "name": "stdout",
     "output_type": "stream",
     "text": [
      "New batch [15]\n"
     ]
    },
    {
     "name": "stderr",
     "output_type": "stream",
     "text": [
      "C:\\Users\\bierl\\AppData\\Local\\Temp\\ipykernel_22508\\1681313543.py:15: UserWarning: To copy construct from a tensor, it is recommended to use sourceTensor.clone().detach() or sourceTensor.clone().detach().requires_grad_(True), rather than torch.tensor(sourceTensor).\n",
      "  return torch.tensor(torch.sum((preds == labels)) / len(preds))\n",
      "C:\\Users\\bierl\\AppData\\Local\\Temp\\ipykernel_22508\\1681313543.py:15: UserWarning: To copy construct from a tensor, it is recommended to use sourceTensor.clone().detach() or sourceTensor.clone().detach().requires_grad_(True), rather than torch.tensor(sourceTensor).\n",
      "  return torch.tensor(torch.sum((preds == labels)) / len(preds))\n",
      "C:\\Users\\bierl\\AppData\\Local\\Temp\\ipykernel_22508\\1681313543.py:15: UserWarning: To copy construct from a tensor, it is recommended to use sourceTensor.clone().detach() or sourceTensor.clone().detach().requires_grad_(True), rather than torch.tensor(sourceTensor).\n",
      "  return torch.tensor(torch.sum((preds == labels)) / len(preds))\n",
      "C:\\Users\\bierl\\AppData\\Local\\Temp\\ipykernel_22508\\1681313543.py:15: UserWarning: To copy construct from a tensor, it is recommended to use sourceTensor.clone().detach() or sourceTensor.clone().detach().requires_grad_(True), rather than torch.tensor(sourceTensor).\n",
      "  return torch.tensor(torch.sum((preds == labels)) / len(preds))\n",
      "C:\\Users\\bierl\\AppData\\Local\\Temp\\ipykernel_22508\\1681313543.py:15: UserWarning: To copy construct from a tensor, it is recommended to use sourceTensor.clone().detach() or sourceTensor.clone().detach().requires_grad_(True), rather than torch.tensor(sourceTensor).\n",
      "  return torch.tensor(torch.sum((preds == labels)) / len(preds))\n",
      "C:\\Users\\bierl\\AppData\\Local\\Temp\\ipykernel_22508\\1681313543.py:15: UserWarning: To copy construct from a tensor, it is recommended to use sourceTensor.clone().detach() or sourceTensor.clone().detach().requires_grad_(True), rather than torch.tensor(sourceTensor).\n",
      "  return torch.tensor(torch.sum((preds == labels)) / len(preds))\n"
     ]
    },
    {
     "name": "stdout",
     "output_type": "stream",
     "text": [
      "Epoch:[8]: validation loss: 1.1321974992752075, validation accuracy: 0.17499999701976776,validation f1_score: 0.1355339105339105\n",
      "New batch [0]\n"
     ]
    },
    {
     "name": "stderr",
     "output_type": "stream",
     "text": [
      "C:\\Users\\bierl\\AppData\\Local\\Temp\\ipykernel_22508\\1681313543.py:15: UserWarning: To copy construct from a tensor, it is recommended to use sourceTensor.clone().detach() or sourceTensor.clone().detach().requires_grad_(True), rather than torch.tensor(sourceTensor).\n",
      "  return torch.tensor(torch.sum((preds == labels)) / len(preds))\n"
     ]
    },
    {
     "name": "stdout",
     "output_type": "stream",
     "text": [
      "New batch [1]\n"
     ]
    },
    {
     "name": "stderr",
     "output_type": "stream",
     "text": [
      "C:\\Users\\bierl\\AppData\\Local\\Temp\\ipykernel_22508\\1681313543.py:15: UserWarning: To copy construct from a tensor, it is recommended to use sourceTensor.clone().detach() or sourceTensor.clone().detach().requires_grad_(True), rather than torch.tensor(sourceTensor).\n",
      "  return torch.tensor(torch.sum((preds == labels)) / len(preds))\n"
     ]
    },
    {
     "name": "stdout",
     "output_type": "stream",
     "text": [
      "New batch [2]\n"
     ]
    },
    {
     "name": "stderr",
     "output_type": "stream",
     "text": [
      "C:\\Users\\bierl\\AppData\\Local\\Temp\\ipykernel_22508\\1681313543.py:15: UserWarning: To copy construct from a tensor, it is recommended to use sourceTensor.clone().detach() or sourceTensor.clone().detach().requires_grad_(True), rather than torch.tensor(sourceTensor).\n",
      "  return torch.tensor(torch.sum((preds == labels)) / len(preds))\n"
     ]
    },
    {
     "name": "stdout",
     "output_type": "stream",
     "text": [
      "New batch [3]\n"
     ]
    },
    {
     "name": "stderr",
     "output_type": "stream",
     "text": [
      "C:\\Users\\bierl\\AppData\\Local\\Temp\\ipykernel_22508\\1681313543.py:15: UserWarning: To copy construct from a tensor, it is recommended to use sourceTensor.clone().detach() or sourceTensor.clone().detach().requires_grad_(True), rather than torch.tensor(sourceTensor).\n",
      "  return torch.tensor(torch.sum((preds == labels)) / len(preds))\n"
     ]
    },
    {
     "name": "stdout",
     "output_type": "stream",
     "text": [
      "New batch [4]\n"
     ]
    },
    {
     "name": "stderr",
     "output_type": "stream",
     "text": [
      "C:\\Users\\bierl\\AppData\\Local\\Temp\\ipykernel_22508\\1681313543.py:15: UserWarning: To copy construct from a tensor, it is recommended to use sourceTensor.clone().detach() or sourceTensor.clone().detach().requires_grad_(True), rather than torch.tensor(sourceTensor).\n",
      "  return torch.tensor(torch.sum((preds == labels)) / len(preds))\n"
     ]
    },
    {
     "name": "stdout",
     "output_type": "stream",
     "text": [
      "New batch [5]\n"
     ]
    },
    {
     "name": "stderr",
     "output_type": "stream",
     "text": [
      "C:\\Users\\bierl\\AppData\\Local\\Temp\\ipykernel_22508\\1681313543.py:15: UserWarning: To copy construct from a tensor, it is recommended to use sourceTensor.clone().detach() or sourceTensor.clone().detach().requires_grad_(True), rather than torch.tensor(sourceTensor).\n",
      "  return torch.tensor(torch.sum((preds == labels)) / len(preds))\n"
     ]
    },
    {
     "name": "stdout",
     "output_type": "stream",
     "text": [
      "New batch [6]\n"
     ]
    },
    {
     "name": "stderr",
     "output_type": "stream",
     "text": [
      "C:\\Users\\bierl\\AppData\\Local\\Temp\\ipykernel_22508\\1681313543.py:15: UserWarning: To copy construct from a tensor, it is recommended to use sourceTensor.clone().detach() or sourceTensor.clone().detach().requires_grad_(True), rather than torch.tensor(sourceTensor).\n",
      "  return torch.tensor(torch.sum((preds == labels)) / len(preds))\n"
     ]
    },
    {
     "name": "stdout",
     "output_type": "stream",
     "text": [
      "New batch [7]\n"
     ]
    },
    {
     "name": "stderr",
     "output_type": "stream",
     "text": [
      "C:\\Users\\bierl\\AppData\\Local\\Temp\\ipykernel_22508\\1681313543.py:15: UserWarning: To copy construct from a tensor, it is recommended to use sourceTensor.clone().detach() or sourceTensor.clone().detach().requires_grad_(True), rather than torch.tensor(sourceTensor).\n",
      "  return torch.tensor(torch.sum((preds == labels)) / len(preds))\n"
     ]
    },
    {
     "name": "stdout",
     "output_type": "stream",
     "text": [
      "New batch [8]\n"
     ]
    },
    {
     "name": "stderr",
     "output_type": "stream",
     "text": [
      "C:\\Users\\bierl\\AppData\\Local\\Temp\\ipykernel_22508\\1681313543.py:15: UserWarning: To copy construct from a tensor, it is recommended to use sourceTensor.clone().detach() or sourceTensor.clone().detach().requires_grad_(True), rather than torch.tensor(sourceTensor).\n",
      "  return torch.tensor(torch.sum((preds == labels)) / len(preds))\n"
     ]
    },
    {
     "name": "stdout",
     "output_type": "stream",
     "text": [
      "New batch [9]\n"
     ]
    },
    {
     "name": "stderr",
     "output_type": "stream",
     "text": [
      "C:\\Users\\bierl\\AppData\\Local\\Temp\\ipykernel_22508\\1681313543.py:15: UserWarning: To copy construct from a tensor, it is recommended to use sourceTensor.clone().detach() or sourceTensor.clone().detach().requires_grad_(True), rather than torch.tensor(sourceTensor).\n",
      "  return torch.tensor(torch.sum((preds == labels)) / len(preds))\n"
     ]
    },
    {
     "name": "stdout",
     "output_type": "stream",
     "text": [
      "New batch [10]\n"
     ]
    },
    {
     "name": "stderr",
     "output_type": "stream",
     "text": [
      "C:\\Users\\bierl\\AppData\\Local\\Temp\\ipykernel_22508\\1681313543.py:15: UserWarning: To copy construct from a tensor, it is recommended to use sourceTensor.clone().detach() or sourceTensor.clone().detach().requires_grad_(True), rather than torch.tensor(sourceTensor).\n",
      "  return torch.tensor(torch.sum((preds == labels)) / len(preds))\n"
     ]
    },
    {
     "name": "stdout",
     "output_type": "stream",
     "text": [
      "New batch [11]\n"
     ]
    },
    {
     "name": "stderr",
     "output_type": "stream",
     "text": [
      "C:\\Users\\bierl\\AppData\\Local\\Temp\\ipykernel_22508\\1681313543.py:15: UserWarning: To copy construct from a tensor, it is recommended to use sourceTensor.clone().detach() or sourceTensor.clone().detach().requires_grad_(True), rather than torch.tensor(sourceTensor).\n",
      "  return torch.tensor(torch.sum((preds == labels)) / len(preds))\n"
     ]
    },
    {
     "name": "stdout",
     "output_type": "stream",
     "text": [
      "New batch [12]\n"
     ]
    },
    {
     "name": "stderr",
     "output_type": "stream",
     "text": [
      "C:\\Users\\bierl\\AppData\\Local\\Temp\\ipykernel_22508\\1681313543.py:15: UserWarning: To copy construct from a tensor, it is recommended to use sourceTensor.clone().detach() or sourceTensor.clone().detach().requires_grad_(True), rather than torch.tensor(sourceTensor).\n",
      "  return torch.tensor(torch.sum((preds == labels)) / len(preds))\n"
     ]
    },
    {
     "name": "stdout",
     "output_type": "stream",
     "text": [
      "New batch [13]\n"
     ]
    },
    {
     "name": "stderr",
     "output_type": "stream",
     "text": [
      "C:\\Users\\bierl\\AppData\\Local\\Temp\\ipykernel_22508\\1681313543.py:15: UserWarning: To copy construct from a tensor, it is recommended to use sourceTensor.clone().detach() or sourceTensor.clone().detach().requires_grad_(True), rather than torch.tensor(sourceTensor).\n",
      "  return torch.tensor(torch.sum((preds == labels)) / len(preds))\n"
     ]
    },
    {
     "name": "stdout",
     "output_type": "stream",
     "text": [
      "New batch [14]\n"
     ]
    },
    {
     "name": "stderr",
     "output_type": "stream",
     "text": [
      "C:\\Users\\bierl\\AppData\\Local\\Temp\\ipykernel_22508\\1681313543.py:15: UserWarning: To copy construct from a tensor, it is recommended to use sourceTensor.clone().detach() or sourceTensor.clone().detach().requires_grad_(True), rather than torch.tensor(sourceTensor).\n",
      "  return torch.tensor(torch.sum((preds == labels)) / len(preds))\n"
     ]
    },
    {
     "name": "stdout",
     "output_type": "stream",
     "text": [
      "New batch [15]\n"
     ]
    },
    {
     "name": "stderr",
     "output_type": "stream",
     "text": [
      "C:\\Users\\bierl\\AppData\\Local\\Temp\\ipykernel_22508\\1681313543.py:15: UserWarning: To copy construct from a tensor, it is recommended to use sourceTensor.clone().detach() or sourceTensor.clone().detach().requires_grad_(True), rather than torch.tensor(sourceTensor).\n",
      "  return torch.tensor(torch.sum((preds == labels)) / len(preds))\n",
      "C:\\Users\\bierl\\AppData\\Local\\Temp\\ipykernel_22508\\1681313543.py:15: UserWarning: To copy construct from a tensor, it is recommended to use sourceTensor.clone().detach() or sourceTensor.clone().detach().requires_grad_(True), rather than torch.tensor(sourceTensor).\n",
      "  return torch.tensor(torch.sum((preds == labels)) / len(preds))\n",
      "C:\\Users\\bierl\\AppData\\Local\\Temp\\ipykernel_22508\\1681313543.py:15: UserWarning: To copy construct from a tensor, it is recommended to use sourceTensor.clone().detach() or sourceTensor.clone().detach().requires_grad_(True), rather than torch.tensor(sourceTensor).\n",
      "  return torch.tensor(torch.sum((preds == labels)) / len(preds))\n",
      "C:\\Users\\bierl\\AppData\\Local\\Temp\\ipykernel_22508\\1681313543.py:15: UserWarning: To copy construct from a tensor, it is recommended to use sourceTensor.clone().detach() or sourceTensor.clone().detach().requires_grad_(True), rather than torch.tensor(sourceTensor).\n",
      "  return torch.tensor(torch.sum((preds == labels)) / len(preds))\n",
      "C:\\Users\\bierl\\AppData\\Local\\Temp\\ipykernel_22508\\1681313543.py:15: UserWarning: To copy construct from a tensor, it is recommended to use sourceTensor.clone().detach() or sourceTensor.clone().detach().requires_grad_(True), rather than torch.tensor(sourceTensor).\n",
      "  return torch.tensor(torch.sum((preds == labels)) / len(preds))\n",
      "C:\\Users\\bierl\\AppData\\Local\\Temp\\ipykernel_22508\\1681313543.py:15: UserWarning: To copy construct from a tensor, it is recommended to use sourceTensor.clone().detach() or sourceTensor.clone().detach().requires_grad_(True), rather than torch.tensor(sourceTensor).\n",
      "  return torch.tensor(torch.sum((preds == labels)) / len(preds))\n"
     ]
    },
    {
     "name": "stdout",
     "output_type": "stream",
     "text": [
      "Epoch:[9]: validation loss: 1.1292364597320557, validation accuracy: 0.17499999701976776,validation f1_score: 0.1436258186258186\n"
     ]
    }
   ],
   "source": [
    "# fit the model using the predefined fit function\n",
    "history = fit(model, 10, train_loader_to_device, test_loader_to_device, torch.optim.Adam, 0.0001, False,\n",
    "              torch.optim.lr_scheduler.ReduceLROnPlateau, patience=2, factor=0.1 )"
   ]
  },
  {
   "cell_type": "code",
   "execution_count": 18,
   "metadata": {
    "pycharm": {
     "name": "#%%\n"
    }
   },
   "outputs": [
    {
     "data": {
      "text/plain": "[{'val_loss': 1.1215227842330933,\n  'val_acc': 0.26249998807907104,\n  'val_f1': 0.19493561993561995,\n  'train_loss': 1.1250702142715454,\n  'train_acc': 0.27627840638160706,\n  'train_f1': 0.25112595737595733},\n {'val_loss': 1.1220871210098267,\n  'val_acc': 0.17499999701976776,\n  'val_f1': 0.14376068376068377,\n  'train_loss': 1.122710943222046,\n  'train_acc': 0.2908380627632141,\n  'train_f1': 0.2506917646623529},\n {'val_loss': 1.1803324222564697,\n  'val_acc': 0.17499999701976776,\n  'val_f1': 0.13002849002849,\n  'train_loss': 1.1255933046340942,\n  'train_acc': 0.2848011255264282,\n  'train_f1': 0.2640193412252236},\n {'val_loss': 1.1367475986480713,\n  'val_acc': 0.17499999701976776,\n  'val_f1': 0.15125985125985125,\n  'train_loss': 1.1326721906661987,\n  'train_acc': 0.2869318127632141,\n  'train_f1': 0.2563245781995782},\n {'val_loss': 1.1307992935180664,\n  'val_acc': 0.17499999701976776,\n  'val_f1': 0.128003848003848,\n  'train_loss': 1.103765606880188,\n  'train_acc': 0.29829543828964233,\n  'train_f1': 0.27264474360062596},\n {'val_loss': 1.1593087911605835,\n  'val_acc': 0.17499999701976776,\n  'val_f1': 0.1383485359955948,\n  'train_loss': 1.1050231456756592,\n  'train_acc': 0.3277698755264282,\n  'train_f1': 0.3062149519870108},\n {'val_loss': 1.118317723274231,\n  'val_acc': 0.26249998807907104,\n  'val_f1': 0.19394122217651627,\n  'train_loss': 1.139229416847229,\n  'train_acc': 0.2848011255264282,\n  'train_f1': 0.25566573948926885},\n {'val_loss': 1.1286591291427612,\n  'val_acc': 0.17499999701976776,\n  'val_f1': 0.14480260480260482,\n  'train_loss': 1.1185498237609863,\n  'train_acc': 0.2769886255264282,\n  'train_f1': 0.24907025844525843},\n {'val_loss': 1.1321974992752075,\n  'val_acc': 0.17499999701976776,\n  'val_f1': 0.1355339105339105,\n  'train_loss': 1.1148213148117065,\n  'train_acc': 0.30397728085517883,\n  'train_f1': 0.2865863983511042},\n {'val_loss': 1.1292364597320557,\n  'val_acc': 0.17499999701976776,\n  'val_f1': 0.1436258186258186,\n  'train_loss': 1.1306216716766357,\n  'train_acc': 0.29403409361839294,\n  'train_f1': 0.2789894133644134}]"
     },
     "execution_count": 18,
     "metadata": {},
     "output_type": "execute_result"
    }
   ],
   "source": [
    "history"
   ]
  },
  {
   "cell_type": "code",
   "execution_count": null,
   "outputs": [],
   "source": [],
   "metadata": {
    "collapsed": false,
    "pycharm": {
     "name": "#%%\n"
    }
   }
  }
 ],
 "metadata": {
  "colab": {
   "authorship_tag": "ABX9TyNGcy+hy5/uFKxxTsGJ+Ua/",
   "mount_file_id": "1rJ0DpSLZO8-1ghi3hukofNITywwe8wZI",
   "provenance": []
  },
  "gpuClass": "standard",
  "kernelspec": {
   "display_name": "Python 3 (ipykernel)",
   "language": "python",
   "name": "python3"
  },
  "language_info": {
   "codemirror_mode": {
    "name": "ipython",
    "version": 3
   },
   "file_extension": ".py",
   "mimetype": "text/x-python",
   "name": "python",
   "nbconvert_exporter": "python",
   "pygments_lexer": "ipython3",
   "version": "3.9.15"
  },
  "widgets": {
   "application/vnd.jupyter.widget-state+json": {
    "152fe35002a64745ba8b4ae52cf7a1a6": {
     "model_module": "@jupyter-widgets/base",
     "model_module_version": "1.2.0",
     "model_name": "LayoutModel",
     "state": {
      "_model_module": "@jupyter-widgets/base",
      "_model_module_version": "1.2.0",
      "_model_name": "LayoutModel",
      "_view_count": null,
      "_view_module": "@jupyter-widgets/base",
      "_view_module_version": "1.2.0",
      "_view_name": "LayoutView",
      "align_content": null,
      "align_items": null,
      "align_self": null,
      "border": null,
      "bottom": null,
      "display": null,
      "flex": null,
      "flex_flow": null,
      "grid_area": null,
      "grid_auto_columns": null,
      "grid_auto_flow": null,
      "grid_auto_rows": null,
      "grid_column": null,
      "grid_gap": null,
      "grid_row": null,
      "grid_template_areas": null,
      "grid_template_columns": null,
      "grid_template_rows": null,
      "height": null,
      "justify_content": null,
      "justify_items": null,
      "left": null,
      "margin": null,
      "max_height": null,
      "max_width": null,
      "min_height": null,
      "min_width": null,
      "object_fit": null,
      "object_position": null,
      "order": null,
      "overflow": null,
      "overflow_x": null,
      "overflow_y": null,
      "padding": null,
      "right": null,
      "top": null,
      "visibility": null,
      "width": null
     }
    },
    "1d7cc9f46a8a41d3883f27abad4d244c": {
     "model_module": "@jupyter-widgets/base",
     "model_module_version": "1.2.0",
     "model_name": "LayoutModel",
     "state": {
      "_model_module": "@jupyter-widgets/base",
      "_model_module_version": "1.2.0",
      "_model_name": "LayoutModel",
      "_view_count": null,
      "_view_module": "@jupyter-widgets/base",
      "_view_module_version": "1.2.0",
      "_view_name": "LayoutView",
      "align_content": null,
      "align_items": null,
      "align_self": null,
      "border": null,
      "bottom": null,
      "display": null,
      "flex": null,
      "flex_flow": null,
      "grid_area": null,
      "grid_auto_columns": null,
      "grid_auto_flow": null,
      "grid_auto_rows": null,
      "grid_column": null,
      "grid_gap": null,
      "grid_row": null,
      "grid_template_areas": null,
      "grid_template_columns": null,
      "grid_template_rows": null,
      "height": null,
      "justify_content": null,
      "justify_items": null,
      "left": null,
      "margin": null,
      "max_height": null,
      "max_width": null,
      "min_height": null,
      "min_width": null,
      "object_fit": null,
      "object_position": null,
      "order": null,
      "overflow": null,
      "overflow_x": null,
      "overflow_y": null,
      "padding": null,
      "right": null,
      "top": null,
      "visibility": null,
      "width": null
     }
    },
    "303f826be8884104b0f873f5b73a9953": {
     "model_module": "@jupyter-widgets/controls",
     "model_module_version": "1.5.0",
     "model_name": "DescriptionStyleModel",
     "state": {
      "_model_module": "@jupyter-widgets/controls",
      "_model_module_version": "1.5.0",
      "_model_name": "DescriptionStyleModel",
      "_view_count": null,
      "_view_module": "@jupyter-widgets/base",
      "_view_module_version": "1.2.0",
      "_view_name": "StyleView",
      "description_width": ""
     }
    },
    "328c22c1714e4651a12c050db9398aac": {
     "model_module": "@jupyter-widgets/controls",
     "model_module_version": "1.5.0",
     "model_name": "HBoxModel",
     "state": {
      "_dom_classes": [],
      "_model_module": "@jupyter-widgets/controls",
      "_model_module_version": "1.5.0",
      "_model_name": "HBoxModel",
      "_view_count": null,
      "_view_module": "@jupyter-widgets/controls",
      "_view_module_version": "1.5.0",
      "_view_name": "HBoxView",
      "box_style": "",
      "children": [
       "IPY_MODEL_4cda8d1f50a140ba874b3a3a3ba8497c",
       "IPY_MODEL_8880daabb3d14875967b09ca40d39084",
       "IPY_MODEL_accbb36c68d64742a4eb19d75bbca8d8"
      ],
      "layout": "IPY_MODEL_4821719f09a44e9ea7f8f8c6ceb8ef5f"
     }
    },
    "374bbd2e77e8489eaeb640a9253cdd41": {
     "model_module": "@jupyter-widgets/base",
     "model_module_version": "1.2.0",
     "model_name": "LayoutModel",
     "state": {
      "_model_module": "@jupyter-widgets/base",
      "_model_module_version": "1.2.0",
      "_model_name": "LayoutModel",
      "_view_count": null,
      "_view_module": "@jupyter-widgets/base",
      "_view_module_version": "1.2.0",
      "_view_name": "LayoutView",
      "align_content": null,
      "align_items": null,
      "align_self": null,
      "border": null,
      "bottom": null,
      "display": null,
      "flex": null,
      "flex_flow": null,
      "grid_area": null,
      "grid_auto_columns": null,
      "grid_auto_flow": null,
      "grid_auto_rows": null,
      "grid_column": null,
      "grid_gap": null,
      "grid_row": null,
      "grid_template_areas": null,
      "grid_template_columns": null,
      "grid_template_rows": null,
      "height": null,
      "justify_content": null,
      "justify_items": null,
      "left": null,
      "margin": null,
      "max_height": null,
      "max_width": null,
      "min_height": null,
      "min_width": null,
      "object_fit": null,
      "object_position": null,
      "order": null,
      "overflow": null,
      "overflow_x": null,
      "overflow_y": null,
      "padding": null,
      "right": null,
      "top": null,
      "visibility": null,
      "width": null
     }
    },
    "4821719f09a44e9ea7f8f8c6ceb8ef5f": {
     "model_module": "@jupyter-widgets/base",
     "model_module_version": "1.2.0",
     "model_name": "LayoutModel",
     "state": {
      "_model_module": "@jupyter-widgets/base",
      "_model_module_version": "1.2.0",
      "_model_name": "LayoutModel",
      "_view_count": null,
      "_view_module": "@jupyter-widgets/base",
      "_view_module_version": "1.2.0",
      "_view_name": "LayoutView",
      "align_content": null,
      "align_items": null,
      "align_self": null,
      "border": null,
      "bottom": null,
      "display": null,
      "flex": null,
      "flex_flow": null,
      "grid_area": null,
      "grid_auto_columns": null,
      "grid_auto_flow": null,
      "grid_auto_rows": null,
      "grid_column": null,
      "grid_gap": null,
      "grid_row": null,
      "grid_template_areas": null,
      "grid_template_columns": null,
      "grid_template_rows": null,
      "height": null,
      "justify_content": null,
      "justify_items": null,
      "left": null,
      "margin": null,
      "max_height": null,
      "max_width": null,
      "min_height": null,
      "min_width": null,
      "object_fit": null,
      "object_position": null,
      "order": null,
      "overflow": null,
      "overflow_x": null,
      "overflow_y": null,
      "padding": null,
      "right": null,
      "top": null,
      "visibility": null,
      "width": null
     }
    },
    "4cda8d1f50a140ba874b3a3a3ba8497c": {
     "model_module": "@jupyter-widgets/controls",
     "model_module_version": "1.5.0",
     "model_name": "HTMLModel",
     "state": {
      "_dom_classes": [],
      "_model_module": "@jupyter-widgets/controls",
      "_model_module_version": "1.5.0",
      "_model_name": "HTMLModel",
      "_view_count": null,
      "_view_module": "@jupyter-widgets/controls",
      "_view_module_version": "1.5.0",
      "_view_name": "HTMLView",
      "description": "",
      "description_tooltip": null,
      "layout": "IPY_MODEL_374bbd2e77e8489eaeb640a9253cdd41",
      "placeholder": "​",
      "style": "IPY_MODEL_ebed727d35244d69b4c1ff172caa9f1e",
      "value": "100%"
     }
    },
    "8880daabb3d14875967b09ca40d39084": {
     "model_module": "@jupyter-widgets/controls",
     "model_module_version": "1.5.0",
     "model_name": "FloatProgressModel",
     "state": {
      "_dom_classes": [],
      "_model_module": "@jupyter-widgets/controls",
      "_model_module_version": "1.5.0",
      "_model_name": "FloatProgressModel",
      "_view_count": null,
      "_view_module": "@jupyter-widgets/controls",
      "_view_module_version": "1.5.0",
      "_view_name": "ProgressView",
      "bar_style": "success",
      "description": "",
      "description_tooltip": null,
      "layout": "IPY_MODEL_1d7cc9f46a8a41d3883f27abad4d244c",
      "max": 553433881,
      "min": 0,
      "orientation": "horizontal",
      "style": "IPY_MODEL_aa55423f39884c0aa70c195e0a2a7fd2",
      "value": 553433881
     }
    },
    "aa55423f39884c0aa70c195e0a2a7fd2": {
     "model_module": "@jupyter-widgets/controls",
     "model_module_version": "1.5.0",
     "model_name": "ProgressStyleModel",
     "state": {
      "_model_module": "@jupyter-widgets/controls",
      "_model_module_version": "1.5.0",
      "_model_name": "ProgressStyleModel",
      "_view_count": null,
      "_view_module": "@jupyter-widgets/base",
      "_view_module_version": "1.2.0",
      "_view_name": "StyleView",
      "bar_color": null,
      "description_width": ""
     }
    },
    "accbb36c68d64742a4eb19d75bbca8d8": {
     "model_module": "@jupyter-widgets/controls",
     "model_module_version": "1.5.0",
     "model_name": "HTMLModel",
     "state": {
      "_dom_classes": [],
      "_model_module": "@jupyter-widgets/controls",
      "_model_module_version": "1.5.0",
      "_model_name": "HTMLModel",
      "_view_count": null,
      "_view_module": "@jupyter-widgets/controls",
      "_view_module_version": "1.5.0",
      "_view_name": "HTMLView",
      "description": "",
      "description_tooltip": null,
      "layout": "IPY_MODEL_152fe35002a64745ba8b4ae52cf7a1a6",
      "placeholder": "​",
      "style": "IPY_MODEL_303f826be8884104b0f873f5b73a9953",
      "value": " 528M/528M [00:05&lt;00:00, 103MB/s]"
     }
    },
    "ebed727d35244d69b4c1ff172caa9f1e": {
     "model_module": "@jupyter-widgets/controls",
     "model_module_version": "1.5.0",
     "model_name": "DescriptionStyleModel",
     "state": {
      "_model_module": "@jupyter-widgets/controls",
      "_model_module_version": "1.5.0",
      "_model_name": "DescriptionStyleModel",
      "_view_count": null,
      "_view_module": "@jupyter-widgets/base",
      "_view_module_version": "1.2.0",
      "_view_name": "StyleView",
      "description_width": ""
     }
    }
   }
  }
 },
 "nbformat": 4,
 "nbformat_minor": 1
}